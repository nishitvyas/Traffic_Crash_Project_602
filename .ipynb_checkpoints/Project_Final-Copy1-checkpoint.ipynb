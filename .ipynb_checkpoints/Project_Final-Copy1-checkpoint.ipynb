{
 "cells": [
  {
   "cell_type": "markdown",
   "id": "9b10762a",
   "metadata": {},
   "source": [
    "# Library imports"
   ]
  },
  {
   "cell_type": "code",
   "execution_count": 3,
   "id": "2303cbae",
   "metadata": {},
   "outputs": [],
   "source": [
    "import numpy as np\n",
    "import pandas as pd\n",
    "import seaborn as sns\n",
    "import matplotlib.pyplot as plt\n",
    "%matplotlib inline\n",
    "import warnings\n",
    "\n",
    "from sklearn.pipeline import Pipeline\n",
    "from sklearn.preprocessing import OneHotEncoder\n",
    "from sklearn.preprocessing import LabelEncoder\n",
    "from sklearn.preprocessing import StandardScaler\n",
    "\n",
    "from sklearn.linear_model import LogisticRegression\n",
    "from sklearn.tree import DecisionTreeClassifier\n",
    "from sklearn.ensemble import RandomForestClassifier\n",
    "\n",
    "from sklearn.model_selection import cross_val_score\n",
    "from sklearn.metrics import classification_report\n",
    "from sklearn.metrics import confusion_matrix"
   ]
  },
  {
   "cell_type": "markdown",
   "id": "4160aee1",
   "metadata": {},
   "source": [
    "# Model Pipelines & Functions"
   ]
  },
  {
   "cell_type": "code",
   "execution_count": 2,
   "id": "038ff8f5",
   "metadata": {},
   "outputs": [],
   "source": [
    "def LogRegPipeline(C,penalty, solver, max_iter, X_train, y_train, X_test, y_test):\n",
    "    penalty = penalty\n",
    "    solver= solver\n",
    "    max_iter = max_iter\n",
    "    X_train = X_train\n",
    "    y_train = y_train\n",
    "    X_test = X_test\n",
    "    y_test = y_test\n",
    "    C=C\n",
    "    LRpipe = Pipeline([\n",
    "                     ('std', StandardScaler()),\n",
    "                     ('lr',LogisticRegression(C=C,penalty = penalty, solver=solver, max_iter=max_iter))\n",
    "    ])\n",
    "    model = LRpipe.fit(X_train,y_train)\n",
    "    print(model)\n",
    "    print('\\n Training Score: ',model.score(X_train,y_train),'\\n')\n",
    "\n",
    "    preds = model.predict(X_test)\n",
    "\n",
    "    print(classification_report(y_pred=preds, y_true=y_test, zero_division=0))\n",
    "    \n",
    "    cm= confusion_matrix(y_pred=preds, y_true=y_test)\n",
    "    plt.figure(figsize=(7,6))\n",
    "    sns.heatmap(cm, annot=True)\n",
    "    plt.xlabel('Predicted')\n",
    "    plt.ylabel('Actual')\n",
    "    plt.tight_layout()\n",
    "    plt.show()"
   ]
  },
  {
   "cell_type": "code",
   "execution_count": 3,
   "id": "dfe50dc0",
   "metadata": {},
   "outputs": [],
   "source": [
    "def DecisionTreePipeline(criterion, max_depth, X_train, y_train, X_test, y_test):\n",
    "    criterion=criterion\n",
    "    max_depth=max_depth\n",
    "    X_train = X_train\n",
    "    y_train = y_train\n",
    "    X_test = X_test\n",
    "    y_test = y_test\n",
    "    DT_pipe = Pipeline([\n",
    "        ('dt', DecisionTreeClassifier(criterion=criterion, max_depth=max_depth))\n",
    "    ])\n",
    "\n",
    "    model = DT_pipe.fit(X_train, y_train)\n",
    "    print(model)\n",
    "    print('\\n Training Score: ',model.score(X_train,y_train),'\\n')\n",
    "    preds = model.predict(X_test)\n",
    "\n",
    "    print(classification_report(y_pred=preds, y_true=y_test, zero_division=0))\n",
    "    \n",
    "    cm= confusion_matrix(y_test, preds)\n",
    "    plt.figure(figsize=(7,6))\n",
    "    sns.heatmap(cm, annot=True)\n",
    "    plt.xlabel('Predicted')\n",
    "    plt.ylabel('Actual')\n",
    "    plt.tight_layout()\n",
    "    plt.show()"
   ]
  },
  {
   "cell_type": "code",
   "execution_count": 4,
   "id": "ebf399e9",
   "metadata": {},
   "outputs": [],
   "source": [
    "def RandomForest(X_train, y_train, X_test, y_test,n_estimators, criterion, bootstrap, max_depth, max_features):\n",
    "    X_train = X_train\n",
    "    y_train = y_train\n",
    "    X_test = X_test\n",
    "    y_test = y_test\n",
    "    n_estimators=n_estimators\n",
    "    criterion=criterion\n",
    "    bootstrap=bootstrap\n",
    "    max_depth=max_depth\n",
    "    max_features=max_features\n",
    "    rndF = RandomForestClassifier(n_estimators=n_estimators, criterion=criterion,bootstrap=bootstrap, max_depth=max_depth, max_features=max_features)\n",
    "    model = rndF.fit(X_train, y_train)\n",
    "    print(model)\n",
    "    print('\\n Training Score: ',model.score(X_train,y_train),'\\n')\n",
    "    preds = model.predict(X_test)\n",
    "\n",
    "    print(classification_report(y_pred=preds, y_true=y_test, zero_division=0))\n",
    "\n",
    "    cm= confusion_matrix(y_test, preds)\n",
    "    plt.figure(figsize=(7,6))\n",
    "    sns.heatmap(cm, annot=True)\n",
    "    plt.xlabel('Predicted')\n",
    "    plt.ylabel('Actual')\n",
    "    plt.tight_layout()\n",
    "    plt.show()"
   ]
  },
  {
   "cell_type": "code",
   "execution_count": 4,
   "id": "c485ba16",
   "metadata": {},
   "outputs": [],
   "source": [
    "def create_splits(X,y, test_size=0.15, random_state=101, stratify=None):\n",
    "    X = X\n",
    "    y = y\n",
    "    random_state = random_state\n",
    "    test_size = test_size\n",
    "    stratify = stratify\n",
    "    from sklearn.model_selection import train_test_split\n",
    "    X_train, X_test, y_train, y_test = train_test_split(X,y,test_size= test_size, random_state=random_state, stratify=stratify)\n",
    "    return(X_train, X_test, y_train, y_test)"
   ]
  },
  {
   "cell_type": "code",
   "execution_count": null,
   "id": "d637fb5c",
   "metadata": {},
   "outputs": [],
   "source": []
  },
  {
   "cell_type": "markdown",
   "id": "3a3a06e8",
   "metadata": {},
   "source": [
    "# Read Data and Basic Get to know the Data"
   ]
  },
  {
   "cell_type": "code",
   "execution_count": 6,
   "id": "947e0ba0",
   "metadata": {},
   "outputs": [
    {
     "data": {
      "text/html": [
       "<div>\n",
       "<style scoped>\n",
       "    .dataframe tbody tr th:only-of-type {\n",
       "        vertical-align: middle;\n",
       "    }\n",
       "\n",
       "    .dataframe tbody tr th {\n",
       "        vertical-align: top;\n",
       "    }\n",
       "\n",
       "    .dataframe thead th {\n",
       "        text-align: right;\n",
       "    }\n",
       "</style>\n",
       "<table border=\"1\" class=\"dataframe\">\n",
       "  <thead>\n",
       "    <tr style=\"text-align: right;\">\n",
       "      <th></th>\n",
       "      <th>OBJECTID</th>\n",
       "      <th>jurisdiction</th>\n",
       "      <th>number_of_lanes</th>\n",
       "      <th>fatal_count</th>\n",
       "      <th>young</th>\n",
       "      <th>deer</th>\n",
       "      <th>crash_id</th>\n",
       "      <th>lighting</th>\n",
       "      <th>occupants</th>\n",
       "      <th>b_level_count</th>\n",
       "      <th>...</th>\n",
       "      <th>highway_classification</th>\n",
       "      <th>crash_type</th>\n",
       "      <th>train</th>\n",
       "      <th>weather</th>\n",
       "      <th>property_damage</th>\n",
       "      <th>lane_departure</th>\n",
       "      <th>primary_road</th>\n",
       "      <th>alcohol</th>\n",
       "      <th>drug</th>\n",
       "      <th>elderly</th>\n",
       "    </tr>\n",
       "  </thead>\n",
       "  <tbody>\n",
       "    <tr>\n",
       "      <th>0</th>\n",
       "      <td>1</td>\n",
       "      <td>4.0</td>\n",
       "      <td>2</td>\n",
       "      <td>0</td>\n",
       "      <td>0</td>\n",
       "      <td>0</td>\n",
       "      <td>7929715</td>\n",
       "      <td>1</td>\n",
       "      <td>2</td>\n",
       "      <td>0</td>\n",
       "      <td>...</td>\n",
       "      <td>9</td>\n",
       "      <td>4</td>\n",
       "      <td>0</td>\n",
       "      <td>2</td>\n",
       "      <td>1</td>\n",
       "      <td>0</td>\n",
       "      <td>HENDRIE</td>\n",
       "      <td>0</td>\n",
       "      <td>0</td>\n",
       "      <td>0</td>\n",
       "    </tr>\n",
       "    <tr>\n",
       "      <th>1</th>\n",
       "      <td>2</td>\n",
       "      <td>5.0</td>\n",
       "      <td>0</td>\n",
       "      <td>0</td>\n",
       "      <td>0</td>\n",
       "      <td>0</td>\n",
       "      <td>7931144</td>\n",
       "      <td>1</td>\n",
       "      <td>3</td>\n",
       "      <td>0</td>\n",
       "      <td>...</td>\n",
       "      <td>9</td>\n",
       "      <td>4</td>\n",
       "      <td>0</td>\n",
       "      <td>1</td>\n",
       "      <td>1</td>\n",
       "      <td>0</td>\n",
       "      <td>E STATE FAIR</td>\n",
       "      <td>0</td>\n",
       "      <td>0</td>\n",
       "      <td>0</td>\n",
       "    </tr>\n",
       "    <tr>\n",
       "      <th>2</th>\n",
       "      <td>3</td>\n",
       "      <td>4.0</td>\n",
       "      <td>2</td>\n",
       "      <td>0</td>\n",
       "      <td>0</td>\n",
       "      <td>0</td>\n",
       "      <td>7854992</td>\n",
       "      <td>1</td>\n",
       "      <td>0</td>\n",
       "      <td>0</td>\n",
       "      <td>...</td>\n",
       "      <td>9</td>\n",
       "      <td>5</td>\n",
       "      <td>0</td>\n",
       "      <td>2</td>\n",
       "      <td>1</td>\n",
       "      <td>0</td>\n",
       "      <td>FOREST AVE</td>\n",
       "      <td>0</td>\n",
       "      <td>0</td>\n",
       "      <td>0</td>\n",
       "    </tr>\n",
       "    <tr>\n",
       "      <th>3</th>\n",
       "      <td>4</td>\n",
       "      <td>4.0</td>\n",
       "      <td>2</td>\n",
       "      <td>0</td>\n",
       "      <td>0</td>\n",
       "      <td>0</td>\n",
       "      <td>7940235</td>\n",
       "      <td>1</td>\n",
       "      <td>3</td>\n",
       "      <td>0</td>\n",
       "      <td>...</td>\n",
       "      <td>9</td>\n",
       "      <td>8</td>\n",
       "      <td>0</td>\n",
       "      <td>1</td>\n",
       "      <td>1</td>\n",
       "      <td>0</td>\n",
       "      <td>W FOREST AVE</td>\n",
       "      <td>0</td>\n",
       "      <td>0</td>\n",
       "      <td>0</td>\n",
       "    </tr>\n",
       "    <tr>\n",
       "      <th>4</th>\n",
       "      <td>5</td>\n",
       "      <td>1.0</td>\n",
       "      <td>1</td>\n",
       "      <td>0</td>\n",
       "      <td>0</td>\n",
       "      <td>0</td>\n",
       "      <td>7932532</td>\n",
       "      <td>1</td>\n",
       "      <td>1</td>\n",
       "      <td>0</td>\n",
       "      <td>...</td>\n",
       "      <td>3</td>\n",
       "      <td>1</td>\n",
       "      <td>0</td>\n",
       "      <td>5</td>\n",
       "      <td>1</td>\n",
       "      <td>1</td>\n",
       "      <td>109C</td>\n",
       "      <td>0</td>\n",
       "      <td>0</td>\n",
       "      <td>0</td>\n",
       "    </tr>\n",
       "  </tbody>\n",
       "</table>\n",
       "<p>5 rows × 37 columns</p>\n",
       "</div>"
      ],
      "text/plain": [
       "   OBJECTID  jurisdiction  number_of_lanes  fatal_count  young  deer  \\\n",
       "0         1           4.0                2            0      0     0   \n",
       "1         2           5.0                0            0      0     0   \n",
       "2         3           4.0                2            0      0     0   \n",
       "3         4           4.0                2            0      0     0   \n",
       "4         5           1.0                1            0      0     0   \n",
       "\n",
       "   crash_id  lighting  occupants  b_level_count  ...  highway_classification  \\\n",
       "0   7929715         1          2              0  ...                       9   \n",
       "1   7931144         1          3              0  ...                       9   \n",
       "2   7854992         1          0              0  ...                       9   \n",
       "3   7940235         1          3              0  ...                       9   \n",
       "4   7932532         1          1              0  ...                       3   \n",
       "\n",
       "   crash_type  train  weather  property_damage  lane_departure  primary_road  \\\n",
       "0           4      0        2                1               0       HENDRIE   \n",
       "1           4      0        1                1               0  E STATE FAIR   \n",
       "2           5      0        2                1               0    FOREST AVE   \n",
       "3           8      0        1                1               0  W FOREST AVE   \n",
       "4           1      0        5                1               1          109C   \n",
       "\n",
       "   alcohol  drug  elderly  \n",
       "0        0     0        0  \n",
       "1        0     0        0  \n",
       "2        0     0        0  \n",
       "3        0     0        0  \n",
       "4        0     0        0  \n",
       "\n",
       "[5 rows x 37 columns]"
      ]
     },
     "execution_count": 6,
     "metadata": {},
     "output_type": "execute_result"
    }
   ],
   "source": [
    "crashesDf = pd.read_csv('https://raw.githubusercontent.com/nvyas1-git/Traffic_Crash_Project_602/main/data/Traffic_Crashes.csv')\n",
    "crashesDf.head()"
   ]
  },
  {
   "cell_type": "markdown",
   "id": "190928d2",
   "metadata": {},
   "source": [
    "## Cleaning the Data"
   ]
  },
  {
   "cell_type": "code",
   "execution_count": 8,
   "id": "1573744a",
   "metadata": {},
   "outputs": [],
   "source": [
    "crashesDfClean = crashesDf.drop(columns=['OBJECTID', 'crash_id'], axis =1)"
   ]
  },
  {
   "cell_type": "code",
   "execution_count": 9,
   "id": "81cfb038",
   "metadata": {},
   "outputs": [],
   "source": [
    "crashesDfNAClean = crashesDfClean.dropna(axis=0)"
   ]
  },
  {
   "cell_type": "markdown",
   "id": "6028bb6c",
   "metadata": {},
   "source": [
    "__Differentiating the columns based on their values such as boolean columns and columns having more than two values__"
   ]
  },
  {
   "cell_type": "code",
   "execution_count": 11,
   "id": "71159969",
   "metadata": {},
   "outputs": [],
   "source": [
    "bi_value_cats = ['young', 'deer', 'pedestrian', 'dis_ctrl_i', 'school_bus', 'hit_and_run', 'bicycle', 'motorcycle',\n",
    "                 'red_light_running', 'train', 'property_damage']\n",
    "\n",
    "more_value_cats = ['lane_departure', 'weather', 'crash_type', 'highway_classification','weekday', 'most_severe_injury', 'a_level_count',\n",
    "                   'b_level_count', 'c_level_count', 'number_of_units', 'road_condition', 'lighting', 'fatal_count', 'number_of_lanes',\n",
    "                   'jurisdiction']\n",
    "\n",
    "more_than_20_value_cats = ['hour','speed_limit', 'occupants']"
   ]
  },
  {
   "cell_type": "markdown",
   "id": "36b8d772",
   "metadata": {},
   "source": [
    "## Labelling the target column"
   ]
  },
  {
   "cell_type": "code",
   "execution_count": 12,
   "id": "08c0535e",
   "metadata": {},
   "outputs": [
    {
     "data": {
      "text/plain": [
       "Non-Consumed Youth               116928\n",
       "Non-Consumed Elder                15181\n",
       "Alcohol Consumed Youth             2597\n",
       "Drug Consumed Youth                 298\n",
       "Alcohol & Drug Consumed Youth       289\n",
       "Alcohol Consumed Elder              167\n",
       "Drug Consumed Elder                  44\n",
       "Alcohol & Drug Consumed Elder        40\n",
       "Name: target, dtype: int64"
      ]
     },
     "execution_count": 12,
     "metadata": {},
     "output_type": "execute_result"
    }
   ],
   "source": [
    "# Class Fragmentation as per target and then combining them into One Dataframe\n",
    "with warnings.catch_warnings():\n",
    "    warnings.filterwarnings(\"ignore\")\n",
    "    dfADE = crashesDfNAClean[(crashesDfNAClean['alcohol']==1)&(crashesDfNAClean['drug']==1)&(crashesDfNAClean['elderly']==1)]\n",
    "    dfADE['target'] = 'Alcohol & Drug Consumed Elder'\n",
    "    dfAE = crashesDfNAClean[(crashesDfNAClean['alcohol']==1)&(crashesDfNAClean['drug']==0)&(crashesDfNAClean['elderly']==1)]\n",
    "    dfAE['target'] = 'Alcohol Consumed Elder'\n",
    "    dfDE = crashesDfNAClean[(crashesDfNAClean['alcohol']==0)&(crashesDfNAClean['drug']==1)&(crashesDfNAClean['elderly']==1)]\n",
    "    dfDE['target'] = 'Drug Consumed Elder'\n",
    "    dfE = crashesDfNAClean[(crashesDfNAClean['alcohol']==0)&(crashesDfNAClean['drug']==0)&(crashesDfNAClean['elderly']==1)]\n",
    "    dfE['target'] = 'Non-Consumed Elder'\n",
    "    dfADY = crashesDfNAClean[(crashesDfNAClean['alcohol']==1)&(crashesDfNAClean['drug']==1)&(crashesDfNAClean['elderly']==0)]\n",
    "    dfADY['target'] = 'Alcohol & Drug Consumed Youth'\n",
    "    dfAY = crashesDfNAClean[(crashesDfNAClean['alcohol']==1)&(crashesDfNAClean['drug']==0)&(crashesDfNAClean['elderly']==0)]\n",
    "    dfAY['target'] = 'Alcohol Consumed Youth'\n",
    "    dfDY = crashesDfNAClean[(crashesDfNAClean['alcohol']==0)&(crashesDfNAClean['drug']==1)&(crashesDfNAClean['elderly']==0)]\n",
    "    dfDY['target'] = 'Drug Consumed Youth'\n",
    "    dfY = crashesDfNAClean[(crashesDfNAClean['alcohol']==0)&(crashesDfNAClean['drug']==0)&(crashesDfNAClean['elderly']==0)]\n",
    "    dfY['target'] = 'Non-Consumed Youth'\n",
    "\n",
    "    crashesDfNAClean = pd.concat([dfADE,dfAE,dfDE,dfE,dfADY,dfAY, dfDY, dfY], axis=0)\n",
    "crashesDfNAClean['target'].value_counts()"
   ]
  },
  {
   "cell_type": "markdown",
   "id": "866da0ff",
   "metadata": {},
   "source": [
    "__There is a huge class imbalance in the data, we will train the Machine Learning model with the imbalance and then will try to use upsampling methods to balance the classes__"
   ]
  },
  {
   "cell_type": "markdown",
   "id": "e9647caa",
   "metadata": {},
   "source": [
    "# Modeling"
   ]
  },
  {
   "cell_type": "markdown",
   "id": "faff7e27",
   "metadata": {},
   "source": [
    "## Column Selection for modeling"
   ]
  },
  {
   "cell_type": "code",
   "execution_count": 13,
   "id": "ea05d234",
   "metadata": {},
   "outputs": [
    {
     "data": {
      "text/plain": [
       "Index(['jurisdiction', 'number_of_lanes', 'fatal_count', 'lighting',\n",
       "       'occupants', 'b_level_count', 'pedestrian', 'road_condition',\n",
       "       'number_of_units', 'speed_limit', 'hour', 'hit_and_run', 'bicycle',\n",
       "       'motorcycle', 'a_level_count', 'c_level_count', 'most_severe_injury',\n",
       "       'red_light_running', 'weekday', 'highway_classification', 'crash_type',\n",
       "       'weather', 'property_damage', 'lane_departure', 'target'],\n",
       "      dtype='object')"
      ]
     },
     "execution_count": 13,
     "metadata": {},
     "output_type": "execute_result"
    }
   ],
   "source": [
    "# Dropping the features that we won't use in the model\n",
    "modelDF=crashesDfNAClean.drop(columns=['deer','dis_ctrl_i','intersecting_road','primary_road','young',\n",
    "                                       'datetime','alcohol','drug','elderly','school_bus','train'])\n",
    "modelDF.columns"
   ]
  },
  {
   "cell_type": "markdown",
   "id": "a8cf3e1f",
   "metadata": {},
   "source": [
    "## Train Test Split"
   ]
  },
  {
   "cell_type": "code",
   "execution_count": 14,
   "id": "d8a20abc",
   "metadata": {},
   "outputs": [],
   "source": [
    "# Assignment of features to X and y\n",
    "X = modelDF.drop(columns='target')\n",
    "y = modelDF['target']"
   ]
  },
  {
   "cell_type": "code",
   "execution_count": 15,
   "id": "d6cda4c8",
   "metadata": {},
   "outputs": [],
   "source": [
    "# Train Test Split\n",
    "X_train, X_test, y_train, y_test = create_splits(X=X,y=y, stratify=y)"
   ]
  },
  {
   "cell_type": "code",
   "execution_count": null,
   "id": "c4b4a2e2",
   "metadata": {},
   "outputs": [],
   "source": []
  },
  {
   "cell_type": "code",
   "execution_count": null,
   "id": "886c1ff5",
   "metadata": {},
   "outputs": [],
   "source": []
  },
  {
   "cell_type": "code",
   "execution_count": null,
   "id": "98226e78",
   "metadata": {},
   "outputs": [],
   "source": []
  },
  {
   "cell_type": "code",
   "execution_count": null,
   "id": "af9dd874",
   "metadata": {},
   "outputs": [],
   "source": []
  },
  {
   "cell_type": "code",
   "execution_count": null,
   "id": "2c018877",
   "metadata": {},
   "outputs": [],
   "source": []
  },
  {
   "cell_type": "code",
   "execution_count": 88,
   "id": "7165748d",
   "metadata": {},
   "outputs": [],
   "source": [
    "from sklearn.linear_model import LogisticRegression\n",
    "from sklearn import metrics\n",
    "def mlflow_runLogR(model_params, exp_name='TrafficCrash', run_Name='run1'):\n",
    "    pipeline = Pipeline(\n",
    "        [\n",
    "            (\"clf\", LogisticRegression())\n",
    "        ]\n",
    "    )\n",
    "    mlflow.set_experiment(exp_name)\n",
    "    with mlflow.start_run(run_name=run_Name):\n",
    "        best_params = model_params\n",
    "        pipeline.set_params(**best_params)\n",
    "        pipeline.fit(X_train,y_train)\n",
    "        prediction = pipeline.predict(X_test)\n",
    "        Accuracy_score = round(metrics.accuracy_score(y_test, prediction)*100,2)\n",
    "        \n",
    "        print('Accuracy_score', Accuracy_score)\n",
    "        print(best_params['clf__penalty'])\n",
    "        mlflow.log_param(\"penalty\", best_params['clf__penalty'])\n",
    "        mlflow.log_param(\"max_iter\", best_params['clf__max_iter'])\n",
    "        mlflow.log_param(\"solver\", best_params['clf__solver'])\n",
    "        mlflow.log_metric(\"Accuracy_score\", Accuracy_score)\n",
    "        mlflow.log_metric(\"Recall\", round(metrics.recall_score(y_test,prediction, average='weighted')*100,2))\n",
    "        mlflow.log_metric(\"F1-score\", round(metrics.f1_score(y_test,prediction,average='weighted')*100,2))\n",
    "\n",
    "\n",
    "        mlflow.sklearn.log_model('clf', \"model\")"
   ]
  },
  {
   "cell_type": "code",
   "execution_count": 66,
   "id": "6f85afee",
   "metadata": {},
   "outputs": [
    {
     "name": "stdout",
     "output_type": "stream",
     "text": [
      "Accuracy_score 86.25\n",
      "l2\n"
     ]
    }
   ],
   "source": [
    "param_grid = {'clf__penalty': 'l2'}\n",
    "mlflow_runLogR(model_params=param_grid,exp_name='TrafficCrash', run_Name='run1' )"
   ]
  },
  {
   "cell_type": "code",
   "execution_count": 67,
   "id": "4840ee97",
   "metadata": {},
   "outputs": [
    {
     "name": "stdout",
     "output_type": "stream",
     "text": [
      "^C\n"
     ]
    }
   ],
   "source": [
    "!mlflow ui"
   ]
  },
  {
   "cell_type": "markdown",
   "id": "e3e59534",
   "metadata": {},
   "source": [
    "## Logistic Regression with the imbalanced classes"
   ]
  },
  {
   "cell_type": "code",
   "execution_count": 28,
   "id": "ac33abbf",
   "metadata": {},
   "outputs": [
    {
     "name": "stdout",
     "output_type": "stream",
     "text": [
      "Pipeline(steps=[('std', StandardScaler()),\n",
      "                ('lr', LogisticRegression(C=1, max_iter=1000))])\n",
      "\n",
      " Training Score:  0.8625056417734264 \n",
      "\n",
      "                               precision    recall  f1-score   support\n",
      "\n",
      "Alcohol & Drug Consumed Elder       0.00      0.00      0.00         6\n",
      "Alcohol & Drug Consumed Youth       0.00      0.00      0.00        43\n",
      "       Alcohol Consumed Elder       0.00      0.00      0.00        25\n",
      "       Alcohol Consumed Youth       0.29      0.01      0.01       390\n",
      "          Drug Consumed Elder       0.00      0.00      0.00         7\n",
      "          Drug Consumed Youth       0.00      0.00      0.00        45\n",
      "           Non-Consumed Elder       0.00      0.00      0.00      2277\n",
      "           Non-Consumed Youth       0.86      1.00      0.93     17539\n",
      "\n",
      "                     accuracy                           0.86     20332\n",
      "                    macro avg       0.14      0.13      0.12     20332\n",
      "                 weighted avg       0.75      0.86      0.80     20332\n",
      "\n"
     ]
    },
    {
     "data": {
      "image/png": "[encoded data removed]",
      "text/plain": [
       "<Figure size 504x432 with 2 Axes>"
      ]
     },
     "metadata": {
      "needs_background": "light"
     },
     "output_type": "display_data"
    }
   ],
   "source": [
    "# Logistic Regression Pipeline\n",
    "LogRegPipeline(C=1,penalty = 'l2', solver='lbfgs', max_iter=1000,X_train=X_train,y_train=y_train,X_test=X_test,y_test=y_test)"
   ]
  },
  {
   "cell_type": "markdown",
   "id": "94cb4f41",
   "metadata": {},
   "source": [
    "__With the imbalance, the model was only able to do good on 'Non-Consumed Youth' and for others it couldn't do well.__\n",
    "\n",
    "__The data has very low variance__\n",
    "\n",
    "__We can try upsampling to balance the classes and check the progress__"
   ]
  },
  {
   "cell_type": "markdown",
   "id": "0d396eb7",
   "metadata": {},
   "source": [
    "### Up-Sampling\n",
    "\n",
    "__We are using a library by the name IMBLEARN. SMOTE method is used which generates the values using K-nearest approach (by default the n for K-near-neighbour is 5 and we will go with the defaults.)__"
   ]
  },
  {
   "cell_type": "code",
   "execution_count": 29,
   "id": "27933bf4",
   "metadata": {},
   "outputs": [
    {
     "data": {
      "text/plain": [
       "Non-Consumed Youth               116928\n",
       "Non-Consumed Elder                15181\n",
       "Alcohol Consumed Youth             2597\n",
       "Drug Consumed Youth                 298\n",
       "Alcohol & Drug Consumed Youth       289\n",
       "Alcohol Consumed Elder              167\n",
       "Drug Consumed Elder                  44\n",
       "Alcohol & Drug Consumed Elder        40\n",
       "Name: target, dtype: int64"
      ]
     },
     "execution_count": 29,
     "metadata": {},
     "output_type": "execute_result"
    }
   ],
   "source": [
    "# Counts of classes with respect to their record occurrence in the data\n",
    "y.value_counts()"
   ]
  },
  {
   "cell_type": "code",
   "execution_count": 70,
   "id": "8be30635",
   "metadata": {},
   "outputs": [
    {
     "data": {
      "text/plain": [
       "Alcohol & Drug Consumed Elder    116928\n",
       "Alcohol Consumed Elder           116928\n",
       "Drug Consumed Elder              116928\n",
       "Non-Consumed Elder               116928\n",
       "Alcohol & Drug Consumed Youth    116928\n",
       "Alcohol Consumed Youth           116928\n",
       "Drug Consumed Youth              116928\n",
       "Non-Consumed Youth               116928\n",
       "Name: target, dtype: int64"
      ]
     },
     "execution_count": 70,
     "metadata": {},
     "output_type": "execute_result"
    }
   ],
   "source": [
    "# SMOTE Upsampling\n",
    "from imblearn.over_sampling import SMOTE\n",
    "from sklearn.model_selection import RepeatedStratifiedKFold\n",
    "from imblearn.over_sampling import SMOTE\n",
    "\n",
    "smote = SMOTE()\n",
    "X_sm, y_sm = smote.fit_resample(X,y)\n",
    "\n",
    "y_sm.value_counts()"
   ]
  },
  {
   "cell_type": "markdown",
   "id": "f1ccc574",
   "metadata": {},
   "source": [
    "__Now that we have synthetic, we will train the model with the obtained values__"
   ]
  },
  {
   "cell_type": "code",
   "execution_count": 74,
   "id": "0fc74bba",
   "metadata": {},
   "outputs": [],
   "source": [
    "# Train Test Splits\n",
    "X_train, X_test, y_train, y_test = create_splits(X_sm,y_sm)"
   ]
  },
  {
   "cell_type": "code",
   "execution_count": 75,
   "id": "2a2f6772",
   "metadata": {},
   "outputs": [
    {
     "name": "stdout",
     "output_type": "stream",
     "text": [
      "Accuracy_score 38.24\n",
      "l2\n"
     ]
    }
   ],
   "source": [
    "param_grid = {'clf__penalty': 'l2',\n",
    "             'clf__solver': 'lbfgs',\n",
    "             'clf__max_iter': 1000}\n",
    "mlflow_runLogR(model_params=param_grid,exp_name='TrafficCrash', run_Name='run3')"
   ]
  },
  {
   "cell_type": "code",
   "execution_count": 76,
   "id": "4e6241b6",
   "metadata": {},
   "outputs": [
    {
     "name": "stdout",
     "output_type": "stream",
     "text": [
      "^C\n"
     ]
    }
   ],
   "source": [
    "!mlflow ui"
   ]
  },
  {
   "cell_type": "code",
   "execution_count": 32,
   "id": "98829931",
   "metadata": {},
   "outputs": [
    {
     "name": "stdout",
     "output_type": "stream",
     "text": [
      "Pipeline(steps=[('std', StandardScaler()),\n",
      "                ('lr', LogisticRegression(C=1, max_iter=1000))])\n",
      "\n",
      " Training Score:  0.38373558375570677 \n",
      "\n",
      "                               precision    recall  f1-score   support\n",
      "\n",
      "Alcohol & Drug Consumed Elder       0.38      0.50      0.43     17707\n",
      "Alcohol & Drug Consumed Youth       0.44      0.26      0.33     17433\n",
      "       Alcohol Consumed Elder       0.30      0.30      0.30     17358\n",
      "       Alcohol Consumed Youth       0.44      0.41      0.42     17378\n",
      "          Drug Consumed Elder       0.40      0.41      0.40     17621\n",
      "          Drug Consumed Youth       0.45      0.33      0.38     17384\n",
      "           Non-Consumed Elder       0.28      0.46      0.35     17794\n",
      "           Non-Consumed Youth       0.54      0.42      0.47     17639\n",
      "\n",
      "                     accuracy                           0.39    140314\n",
      "                    macro avg       0.40      0.39      0.39    140314\n",
      "                 weighted avg       0.40      0.39      0.39    140314\n",
      "\n"
     ]
    },
    {
     "data": {
      "image/png": "[encoded data removed]",
      "text/plain": [
       "<Figure size 504x432 with 2 Axes>"
      ]
     },
     "metadata": {
      "needs_background": "light"
     },
     "output_type": "display_data"
    }
   ],
   "source": [
    "# Logistic Regression Pipeline\n",
    "LogRegPipeline(C=1,penalty = 'l2', solver='lbfgs', max_iter=1000,\n",
    "               X_train=X_sm_train,y_train=y_sm_train,X_test=X_sm_test,y_test=y_sm_test)"
   ]
  },
  {
   "cell_type": "markdown",
   "id": "307b72a1",
   "metadata": {},
   "source": [
    "- __Similarly after training the model such as Decision Tree and Random Forest, similar results were obtained.__\n",
    "\n",
    "- __With the more number of co-related classes, the model gets confused, so instead of differentiating the classes on the basis of elder or youth, we will focus on whether a person has alcohol or drug consumed.__\n",
    "\n",
    "- __A good alternative can be if we reduce the number of classes and then check.__\n",
    "\n",
    "- __Since we are focusing whether the person in the crash was influenced by alcohol or drug, we will categorize them into three classes 'Drug', 'Alcohol' and 'Clean'__\n",
    "\n",
    "__Note:__ The case when the person has consumed both drug and alcohol, they are considered as Drug as per the severity of consumption "
   ]
  },
  {
   "cell_type": "markdown",
   "id": "2b405c08",
   "metadata": {},
   "source": [
    "## Class Reduction\n",
    "\n",
    "__First we have fragmented the classes as per the three column values (alcohol, elderly and drug) and then merged them into one.__"
   ]
  },
  {
   "cell_type": "code",
   "execution_count": 77,
   "id": "eb0b5be5",
   "metadata": {},
   "outputs": [
    {
     "name": "stdout",
     "output_type": "stream",
     "text": [
      "Drug:  (342, 36)\n",
      "Alcohol:  (2764, 36)\n",
      "Alcohol Drug:  (329, 36)\n",
      "Unconsumed:  (132109, 36)\n",
      "Summation of categorized records 135544\n",
      "CrashesDF records:  135544\n"
     ]
    },
    {
     "data": {
      "text/plain": [
       "Clean      132109\n",
       "Alcohol      2764\n",
       "Drug          671\n",
       "Name: target, dtype: int64"
      ]
     },
     "execution_count": 77,
     "metadata": {},
     "output_type": "execute_result"
    }
   ],
   "source": [
    "# Class Fragmentation as per target and then combining them into One Dataframe\n",
    "drug_consumptionDf = crashesDfNAClean[(crashesDfNAClean['alcohol']==0)&(crashesDfNAClean['drug']==1)]\n",
    "print('Drug: ',drug_consumptionDf.shape)\n",
    "\n",
    "alcohol_consumptionDf = crashesDfNAClean[(crashesDfNAClean['alcohol']==1)&(crashesDfNAClean['drug']==0)]\n",
    "print('Alcohol: ',alcohol_consumptionDf.shape)\n",
    "\n",
    "alcohol_drug_consumptionDf = crashesDfNAClean[(crashesDfNAClean['alcohol']==1)&(crashesDfNAClean['drug']==1)]\n",
    "print('Alcohol Drug: ',alcohol_drug_consumptionDf.shape)\n",
    "\n",
    "unconsumedDf = crashesDfNAClean[(crashesDfNAClean['alcohol']==0)&(crashesDfNAClean['drug']==0)]\n",
    "print('Unconsumed: ',unconsumedDf.shape)\n",
    "\n",
    "print('Summation of categorized records',(drug_consumptionDf.shape[0] + alcohol_consumptionDf.shape[0]+ alcohol_drug_consumptionDf.shape[0]+unconsumedDf.shape[0]))\n",
    "print('CrashesDF records: ', crashesDfNAClean.shape[0])\n",
    "\n",
    "with warnings.catch_warnings():\n",
    "    warnings.filterwarnings(\"ignore\")\n",
    "    drug_consumptionDfNew = pd.concat([drug_consumptionDf,alcohol_drug_consumptionDf],axis=0)\n",
    "    drug_consumptionDfNew['target'] = 'Drug'\n",
    "    alcohol_consumptionDf['target'] = 'Alcohol'\n",
    "    unconsumedDf['target']='Clean'\n",
    "\n",
    "crashesEditedDf = pd.concat([drug_consumptionDfNew, alcohol_consumptionDf, unconsumedDf], axis=0)\n",
    "crashesEditedDf['target'].value_counts()"
   ]
  },
  {
   "cell_type": "code",
   "execution_count": 78,
   "id": "ff694d1b",
   "metadata": {},
   "outputs": [
    {
     "data": {
      "text/plain": [
       "Index(['jurisdiction', 'number_of_lanes', 'fatal_count', 'young', 'deer',\n",
       "       'lighting', 'occupants', 'b_level_count', 'pedestrian', 'dis_ctrl_i',\n",
       "       'datetime', 'road_condition', 'number_of_units', 'school_bus',\n",
       "       'speed_limit', 'hour', 'hit_and_run', 'bicycle', 'motorcycle',\n",
       "       'a_level_count', 'c_level_count', 'most_severe_injury',\n",
       "       'red_light_running', 'weekday', 'intersecting_road',\n",
       "       'highway_classification', 'crash_type', 'train', 'weather',\n",
       "       'property_damage', 'lane_departure', 'primary_road', 'alcohol', 'drug',\n",
       "       'elderly', 'target'],\n",
       "      dtype='object')"
      ]
     },
     "execution_count": 78,
     "metadata": {},
     "output_type": "execute_result"
    }
   ],
   "source": [
    "# Total Columns\n",
    "crashesEditedDf.columns"
   ]
  },
  {
   "cell_type": "code",
   "execution_count": 79,
   "id": "39b74462",
   "metadata": {},
   "outputs": [],
   "source": [
    "# Dropping the features which we don't want in the model\n",
    "crashesEditedDf=crashesEditedDf.drop(columns=['datetime','intersecting_road','primary_road','train','school_bus',\n",
    "                             'elderly','young','drug',])"
   ]
  },
  {
   "cell_type": "code",
   "execution_count": 80,
   "id": "2fe46a91",
   "metadata": {},
   "outputs": [],
   "source": [
    "# Assigning features to X and y\n",
    "X = crashesEditedDf.drop(columns=['target'])\n",
    "y = crashesEditedDf['target']"
   ]
  },
  {
   "cell_type": "code",
   "execution_count": 81,
   "id": "4bd1c3bf",
   "metadata": {},
   "outputs": [
    {
     "data": {
      "text/plain": [
       "Drug       132109\n",
       "Alcohol    132109\n",
       "Clean      132109\n",
       "Name: target, dtype: int64"
      ]
     },
     "execution_count": 81,
     "metadata": {},
     "output_type": "execute_result"
    }
   ],
   "source": [
    "# SMOTE Upsampling\n",
    "from imblearn.over_sampling import SMOTE\n",
    "from sklearn.model_selection import RepeatedStratifiedKFold\n",
    "from imblearn.over_sampling import SMOTE\n",
    "\n",
    "smote = SMOTE()\n",
    "X_sm, y_sm = smote.fit_resample(X,y)\n",
    "\n",
    "y_sm.value_counts()"
   ]
  },
  {
   "cell_type": "code",
   "execution_count": 82,
   "id": "9d3231a1",
   "metadata": {},
   "outputs": [],
   "source": [
    "# Train Test Split\n",
    "X_train, X_test, y_train, y_test = create_splits(X_sm,y_sm,stratify=y_sm)"
   ]
  },
  {
   "cell_type": "code",
   "execution_count": 89,
   "id": "47b624de",
   "metadata": {},
   "outputs": [
    {
     "name": "stdout",
     "output_type": "stream",
     "text": [
      "Accuracy_score 81.04\n",
      "l2\n"
     ]
    }
   ],
   "source": [
    "param_grid = {'clf__penalty': 'l2',\n",
    "             'clf__solver': 'lbfgs',\n",
    "             'clf__max_iter': 1000}\n",
    "mlflow_runLogR(model_params=param_grid,exp_name='TrafficCrash', run_Name='run4')"
   ]
  },
  {
   "cell_type": "code",
   "execution_count": 90,
   "id": "a14a4e15",
   "metadata": {},
   "outputs": [
    {
     "name": "stdout",
     "output_type": "stream",
     "text": [
      "^C\n"
     ]
    }
   ],
   "source": [
    "!mlflow ui"
   ]
  },
  {
   "cell_type": "code",
   "execution_count": 39,
   "id": "38218992",
   "metadata": {},
   "outputs": [
    {
     "name": "stdout",
     "output_type": "stream",
     "text": [
      "Pipeline(steps=[('std', StandardScaler()),\n",
      "                ('lr', LogisticRegression(C=1, max_iter=1000))])\n",
      "\n",
      " Training Score:  0.8068553210815818 \n",
      "\n",
      "              precision    recall  f1-score   support\n",
      "\n",
      "     Alcohol       0.81      0.97      0.88     19817\n",
      "       Clean       0.80      0.91      0.85     19817\n",
      "        Drug       0.82      0.55      0.66     19816\n",
      "\n",
      "    accuracy                           0.81     59450\n",
      "   macro avg       0.81      0.81      0.80     59450\n",
      "weighted avg       0.81      0.81      0.80     59450\n",
      "\n"
     ]
    },
    {
     "data": {
      "image/png": "[encoded data removed]",
      "text/plain": [
       "<Figure size 504x432 with 2 Axes>"
      ]
     },
     "metadata": {
      "needs_background": "light"
     },
     "output_type": "display_data"
    }
   ],
   "source": [
    "# Logistic Regression Pipeline\n",
    "LogRegPipeline(C=1,penalty = 'l2', solver='lbfgs', max_iter=1000,\n",
    "               X_train=X_sm_train,y_train=y_sm_train,X_test=X_sm_test,y_test=y_sm_test)"
   ]
  },
  {
   "cell_type": "markdown",
   "id": "70c56511",
   "metadata": {},
   "source": [
    "## Decision Tree\n",
    "\n",
    "__Parameters selection__"
   ]
  },
  {
   "cell_type": "code",
   "execution_count": 40,
   "id": "e764b9e6",
   "metadata": {},
   "outputs": [
    {
     "name": "stdout",
     "output_type": "stream",
     "text": [
      "Pipeline(steps=[('dt',\n",
      "                 DecisionTreeClassifier(criterion='entropy', max_depth=4))])\n",
      "\n",
      " Training Score:  0.8037711093366422 \n",
      "\n",
      "              precision    recall  f1-score   support\n",
      "\n",
      "     Alcohol       0.81      0.98      0.89     19817\n",
      "       Clean       0.76      0.97      0.85     19817\n",
      "        Drug       0.90      0.47      0.62     19816\n",
      "\n",
      "    accuracy                           0.81     59450\n",
      "   macro avg       0.82      0.81      0.79     59450\n",
      "weighted avg       0.82      0.81      0.79     59450\n",
      "\n"
     ]
    },
    {
     "data": {
      "image/png": "[encoded data removed]",
      "text/plain": [
       "<Figure size 504x432 with 2 Axes>"
      ]
     },
     "metadata": {
      "needs_background": "light"
     },
     "output_type": "display_data"
    }
   ],
   "source": [
    "# DecisionTree Pipeline\n",
    "DecisionTreePipeline(criterion='entropy',max_depth=4,\n",
    "                    X_train=X_sm_train, y_train=y_sm_train, X_test=X_sm_test, y_test=y_sm_test)"
   ]
  },
  {
   "cell_type": "markdown",
   "id": "72eef42a",
   "metadata": {},
   "source": [
    "__The precision for the drug is significantly low and the recall for the drug is maximum of all, that means the model was able to recall the values maximum of the time (Model memorized the values)__"
   ]
  },
  {
   "cell_type": "markdown",
   "id": "e08fb19f",
   "metadata": {},
   "source": [
    "## GridSearch on Decision Tree"
   ]
  },
  {
   "cell_type": "code",
   "execution_count": 41,
   "id": "232dbcfc",
   "metadata": {},
   "outputs": [],
   "source": [
    "from sklearn.model_selection import GridSearchCV"
   ]
  },
  {
   "cell_type": "code",
   "execution_count": 42,
   "id": "ec34a087",
   "metadata": {},
   "outputs": [],
   "source": [
    "param_grid = [\n",
    "  {'dt__criterion': ['entropy','gini'], 'dt__min_samples_split':[2,3] ,'dt__max_depth': [1,2,3,4,5]}\n",
    " ]\n",
    "DT_pipe = Pipeline([\n",
    "        ('dt', DecisionTreeClassifier(min_samples_split=2,criterion='entropy', max_depth=3))\n",
    "    ])\n",
    "\n",
    "gcv_results = GridSearchCV(estimator=DT_pipe, param_grid=param_grid, scoring='accuracy', refit=True)\n",
    "gcv_results = gcv_results.fit(X_sm_train, y_sm_train)"
   ]
  },
  {
   "cell_type": "code",
   "execution_count": 43,
   "id": "f2f38828",
   "metadata": {},
   "outputs": [
    {
     "data": {
      "text/plain": [
       "Pipeline(steps=[('dt', DecisionTreeClassifier(max_depth=5))])"
      ]
     },
     "execution_count": 43,
     "metadata": {},
     "output_type": "execute_result"
    }
   ],
   "source": [
    "gcv_results.best_estimator_\n",
    "#gcv_results.best_score_"
   ]
  },
  {
   "cell_type": "code",
   "execution_count": 44,
   "id": "c1124ede",
   "metadata": {},
   "outputs": [
    {
     "name": "stdout",
     "output_type": "stream",
     "text": [
      "              precision    recall  f1-score   support\n",
      "\n",
      "     Alcohol       0.82      0.97      0.89     19817\n",
      "       Clean       0.78      0.94      0.85     19817\n",
      "        Drug       0.85      0.54      0.66     19816\n",
      "\n",
      "    accuracy                           0.81     59450\n",
      "   macro avg       0.82      0.81      0.80     59450\n",
      "weighted avg       0.82      0.81      0.80     59450\n",
      "\n"
     ]
    },
    {
     "data": {
      "image/png": "[encoded data removed]",
      "text/plain": [
       "<Figure size 504x432 with 2 Axes>"
      ]
     },
     "metadata": {
      "needs_background": "light"
     },
     "output_type": "display_data"
    }
   ],
   "source": [
    "preds = gcv_results.predict(X_sm_test)\n",
    "print(classification_report(y_true=y_sm_test, y_pred=preds))\n",
    "\n",
    "cm= confusion_matrix(y_true=y_sm_test, y_pred=preds)\n",
    "plt.figure(figsize=(7,6))\n",
    "sns.heatmap(cm, annot=True)\n",
    "plt.xlabel('Predicted')\n",
    "plt.ylabel('Actual')\n",
    "plt.tight_layout()\n",
    "plt.show()"
   ]
  },
  {
   "cell_type": "markdown",
   "id": "c630ba2a",
   "metadata": {},
   "source": [
    "__For max_depth=15, it almost gave the perfect predictions but using the trees with maximum value of depth is computationally expensive and the probability of getting a low score on unseen data increases.__"
   ]
  },
  {
   "cell_type": "markdown",
   "id": "d07b6e24",
   "metadata": {},
   "source": [
    "## Random Forest\n",
    "\n",
    "__Although it is not preferable to use powerful algorithm such as RandomForest as it memorizes the values given in the training but when the new test values are given, then it won't perform well__"
   ]
  },
  {
   "cell_type": "code",
   "execution_count": 45,
   "id": "383ddd92",
   "metadata": {
    "scrolled": true
   },
   "outputs": [
    {
     "name": "stdout",
     "output_type": "stream",
     "text": [
      "RandomForestClassifier(criterion='entropy', max_depth=6)\n",
      "\n",
      " Training Score:  0.806178516194338 \n",
      "\n",
      "              precision    recall  f1-score   support\n",
      "\n",
      "     Alcohol       0.80      1.00      0.89     19817\n",
      "       Clean       0.81      0.88      0.84     19817\n",
      "        Drug       0.82      0.55      0.66     19816\n",
      "\n",
      "    accuracy                           0.81     59450\n",
      "   macro avg       0.81      0.81      0.80     59450\n",
      "weighted avg       0.81      0.81      0.80     59450\n",
      "\n"
     ]
    },
    {
     "data": {
      "image/png": "[encoded data removed]",
      "text/plain": [
       "<Figure size 504x432 with 2 Axes>"
      ]
     },
     "metadata": {
      "needs_background": "light"
     },
     "output_type": "display_data"
    }
   ],
   "source": [
    "RandomForest(X_train=X_sm_train, y_train=y_sm_train, X_test=X_sm_test, y_test=y_sm_test,\n",
    "             n_estimators=100, criterion='entropy',bootstrap=True, max_depth=6, max_features='auto',)"
   ]
  },
  {
   "cell_type": "markdown",
   "id": "9c444531",
   "metadata": {},
   "source": [
    "## Best Estimator"
   ]
  },
  {
   "cell_type": "code",
   "execution_count": 46,
   "id": "b5c3e6f0",
   "metadata": {},
   "outputs": [
    {
     "name": "stdout",
     "output_type": "stream",
     "text": [
      "Pipeline(steps=[('LR',\n",
      "                 LogisticRegression(C=0.01, max_iter=1000,\n",
      "                                    solver='newton-cg'))])\n",
      "0.8075113438652808\n"
     ]
    }
   ],
   "source": [
    "import warnings\n",
    "with warnings.catch_warnings():\n",
    "    param_grid = [\n",
    "      {'LR__solver':['sag','saga','newton-cg']}\n",
    "     ]\n",
    "    LR_pipe = Pipeline([\n",
    "            ('LR', LogisticRegression(C=0.01,penalty = 'l2', max_iter=1000))\n",
    "        ])\n",
    "\n",
    "    gcv_results = GridSearchCV(estimator=LR_pipe, param_grid=param_grid, scoring='accuracy', refit=True)\n",
    "    gcv_results = gcv_results.fit(X_sm_train, y_sm_train)\n",
    "    print(gcv_results.best_estimator_)\n",
    "    print(gcv_results.best_score_)"
   ]
  },
  {
   "cell_type": "code",
   "execution_count": 47,
   "id": "371159b7",
   "metadata": {},
   "outputs": [
    {
     "name": "stdout",
     "output_type": "stream",
     "text": [
      "              precision    recall  f1-score   support\n",
      "\n",
      "     Alcohol       0.81      0.97      0.89     19817\n",
      "       Clean       0.79      0.91      0.85     19817\n",
      "        Drug       0.82      0.54      0.66     19816\n",
      "\n",
      "    accuracy                           0.81     59450\n",
      "   macro avg       0.81      0.81      0.80     59450\n",
      "weighted avg       0.81      0.81      0.80     59450\n",
      "\n"
     ]
    },
    {
     "data": {
      "image/png": "[encoded data removed]",
      "text/plain": [
       "<Figure size 504x432 with 2 Axes>"
      ]
     },
     "metadata": {
      "needs_background": "light"
     },
     "output_type": "display_data"
    }
   ],
   "source": [
    "preds = gcv_results.predict(X_sm_test)\n",
    "print(classification_report(y_true=y_sm_test, y_pred=preds))\n",
    "\n",
    "cm= confusion_matrix(y_true=y_sm_test, y_pred=preds)\n",
    "plt.figure(figsize=(7,6))\n",
    "sns.heatmap(cm, annot=True)\n",
    "plt.xlabel('Predicted')\n",
    "plt.ylabel('Actual')\n",
    "plt.tight_layout()\n",
    "plt.show()"
   ]
  },
  {
   "cell_type": "markdown",
   "id": "c5b82271",
   "metadata": {},
   "source": [
    "- __The best estimator is the shown above, the solver is 'Newton-CG' as it was able to deal well with the all the three classes than other solvers, although there is not vast differences in the results of all the models__\n",
    "- __'LBFGS' is not used in the Grid Search as it is not able to converge in 1000 iterations__\n",
    "- __In terms of computing time, Decision tree was the fastest of all, but it shows more deviation among precision and recall than the deviation in Logistic Regression, that's why we are selecting Logistic Regression as the best estimator__"
   ]
  },
  {
   "cell_type": "markdown",
   "id": "3b6b5bcb",
   "metadata": {},
   "source": [
    "# Conclusion"
   ]
  },
  {
   "cell_type": "markdown",
   "id": "c3dfa1c8",
   "metadata": {},
   "source": [
    "- __Overall, we were able to predict whether the person in the crash has consumed alcohol or drug.__\n",
    "\n",
    "- __Although, the overall accuracy after balancing the classes dropped from 86% to 81% but the the model with up-sampled values can predict the classes better than before.__\n",
    "\n",
    "- __The Logistic Regression model with the solver 'SAG' was the best estimator__\n",
    "\n",
    "- __A huge class imbalance was encountered for the class Drug, creating synthetic values helped the model to get some variance. Also as per the inference if the patrolling of the police is increased from evening to mid-night, more drug or alcohol crashes can be encountered__\n",
    "\n",
    "- __For extra feature engineering, the guidance from SME on the features such as dis_ctrl_i, young etc can be figured. Also to know some deviation of values from overall values (The road condition code we found was different than the code in Wyoming)__\n",
    "\n",
    "- __As the primary goal of this project is to predict presence of matter, a new feature such as what kind of test was taken, whether the person provided consent for the test or rejected it.__\n"
   ]
  },
  {
   "cell_type": "code",
   "execution_count": null,
   "id": "2e69f67c",
   "metadata": {},
   "outputs": [],
   "source": []
  }
 ],
 "metadata": {
  "kernelspec": {
   "display_name": "Python 3 (ipykernel)",
   "language": "python",
   "name": "python3"
  },
  "language_info": {
   "codemirror_mode": {
    "name": "ipython",
    "version": 3
   },
   "file_extension": ".py",
   "mimetype": "text/x-python",
   "name": "python",
   "nbconvert_exporter": "python",
   "pygments_lexer": "ipython3",
   "version": "3.10.4"
  }
 },
 "nbformat": 4,
 "nbformat_minor": 5
}
