{
 "cells": [
  {
   "cell_type": "code",
   "execution_count": 1,
   "id": "d044cce8",
   "metadata": {},
   "outputs": [],
   "source": [
    "import numpy as np\n",
    "import pandas as pd\n",
    "import seaborn as sns\n",
    "import matplotlib.pyplot as plt\n",
    "%matplotlib inline\n",
    "import warnings\n",
    "\n",
    "from sklearn.pipeline import Pipeline\n",
    "from sklearn.preprocessing import OneHotEncoder\n",
    "from sklearn.preprocessing import LabelEncoder\n",
    "from sklearn.preprocessing import StandardScaler\n",
    "\n",
    "from sklearn.linear_model import LogisticRegression\n",
    "from sklearn.tree import DecisionTreeClassifier\n",
    "from sklearn.ensemble import RandomForestClassifier\n",
    "\n",
    "from sklearn.model_selection import cross_val_score\n",
    "from sklearn.metrics import classification_report\n",
    "from sklearn.metrics import confusion_matrix"
   ]
  },
  {
   "cell_type": "code",
   "execution_count": 2,
   "id": "39282af9",
   "metadata": {},
   "outputs": [
    {
     "data": {
      "text/html": [
       "<div>\n",
       "<style scoped>\n",
       "    .dataframe tbody tr th:only-of-type {\n",
       "        vertical-align: middle;\n",
       "    }\n",
       "\n",
       "    .dataframe tbody tr th {\n",
       "        vertical-align: top;\n",
       "    }\n",
       "\n",
       "    .dataframe thead th {\n",
       "        text-align: right;\n",
       "    }\n",
       "</style>\n",
       "<table border=\"1\" class=\"dataframe\">\n",
       "  <thead>\n",
       "    <tr style=\"text-align: right;\">\n",
       "      <th></th>\n",
       "      <th>OBJECTID</th>\n",
       "      <th>jurisdiction</th>\n",
       "      <th>number_of_lanes</th>\n",
       "      <th>fatal_count</th>\n",
       "      <th>young</th>\n",
       "      <th>deer</th>\n",
       "      <th>crash_id</th>\n",
       "      <th>lighting</th>\n",
       "      <th>occupants</th>\n",
       "      <th>b_level_count</th>\n",
       "      <th>...</th>\n",
       "      <th>highway_classification</th>\n",
       "      <th>crash_type</th>\n",
       "      <th>train</th>\n",
       "      <th>weather</th>\n",
       "      <th>property_damage</th>\n",
       "      <th>lane_departure</th>\n",
       "      <th>primary_road</th>\n",
       "      <th>alcohol</th>\n",
       "      <th>drug</th>\n",
       "      <th>elderly</th>\n",
       "    </tr>\n",
       "  </thead>\n",
       "  <tbody>\n",
       "    <tr>\n",
       "      <th>0</th>\n",
       "      <td>1</td>\n",
       "      <td>4.0</td>\n",
       "      <td>2</td>\n",
       "      <td>0</td>\n",
       "      <td>0</td>\n",
       "      <td>0</td>\n",
       "      <td>7929715</td>\n",
       "      <td>1</td>\n",
       "      <td>2</td>\n",
       "      <td>0</td>\n",
       "      <td>...</td>\n",
       "      <td>9</td>\n",
       "      <td>4</td>\n",
       "      <td>0</td>\n",
       "      <td>2</td>\n",
       "      <td>1</td>\n",
       "      <td>0</td>\n",
       "      <td>HENDRIE</td>\n",
       "      <td>0</td>\n",
       "      <td>0</td>\n",
       "      <td>0</td>\n",
       "    </tr>\n",
       "    <tr>\n",
       "      <th>1</th>\n",
       "      <td>2</td>\n",
       "      <td>5.0</td>\n",
       "      <td>0</td>\n",
       "      <td>0</td>\n",
       "      <td>0</td>\n",
       "      <td>0</td>\n",
       "      <td>7931144</td>\n",
       "      <td>1</td>\n",
       "      <td>3</td>\n",
       "      <td>0</td>\n",
       "      <td>...</td>\n",
       "      <td>9</td>\n",
       "      <td>4</td>\n",
       "      <td>0</td>\n",
       "      <td>1</td>\n",
       "      <td>1</td>\n",
       "      <td>0</td>\n",
       "      <td>E STATE FAIR</td>\n",
       "      <td>0</td>\n",
       "      <td>0</td>\n",
       "      <td>0</td>\n",
       "    </tr>\n",
       "    <tr>\n",
       "      <th>2</th>\n",
       "      <td>3</td>\n",
       "      <td>4.0</td>\n",
       "      <td>2</td>\n",
       "      <td>0</td>\n",
       "      <td>0</td>\n",
       "      <td>0</td>\n",
       "      <td>7854992</td>\n",
       "      <td>1</td>\n",
       "      <td>0</td>\n",
       "      <td>0</td>\n",
       "      <td>...</td>\n",
       "      <td>9</td>\n",
       "      <td>5</td>\n",
       "      <td>0</td>\n",
       "      <td>2</td>\n",
       "      <td>1</td>\n",
       "      <td>0</td>\n",
       "      <td>FOREST AVE</td>\n",
       "      <td>0</td>\n",
       "      <td>0</td>\n",
       "      <td>0</td>\n",
       "    </tr>\n",
       "    <tr>\n",
       "      <th>3</th>\n",
       "      <td>4</td>\n",
       "      <td>4.0</td>\n",
       "      <td>2</td>\n",
       "      <td>0</td>\n",
       "      <td>0</td>\n",
       "      <td>0</td>\n",
       "      <td>7940235</td>\n",
       "      <td>1</td>\n",
       "      <td>3</td>\n",
       "      <td>0</td>\n",
       "      <td>...</td>\n",
       "      <td>9</td>\n",
       "      <td>8</td>\n",
       "      <td>0</td>\n",
       "      <td>1</td>\n",
       "      <td>1</td>\n",
       "      <td>0</td>\n",
       "      <td>W FOREST AVE</td>\n",
       "      <td>0</td>\n",
       "      <td>0</td>\n",
       "      <td>0</td>\n",
       "    </tr>\n",
       "    <tr>\n",
       "      <th>4</th>\n",
       "      <td>5</td>\n",
       "      <td>1.0</td>\n",
       "      <td>1</td>\n",
       "      <td>0</td>\n",
       "      <td>0</td>\n",
       "      <td>0</td>\n",
       "      <td>7932532</td>\n",
       "      <td>1</td>\n",
       "      <td>1</td>\n",
       "      <td>0</td>\n",
       "      <td>...</td>\n",
       "      <td>3</td>\n",
       "      <td>1</td>\n",
       "      <td>0</td>\n",
       "      <td>5</td>\n",
       "      <td>1</td>\n",
       "      <td>1</td>\n",
       "      <td>109C</td>\n",
       "      <td>0</td>\n",
       "      <td>0</td>\n",
       "      <td>0</td>\n",
       "    </tr>\n",
       "  </tbody>\n",
       "</table>\n",
       "<p>5 rows × 37 columns</p>\n",
       "</div>"
      ],
      "text/plain": [
       "   OBJECTID  jurisdiction  number_of_lanes  fatal_count  young  deer  \\\n",
       "0         1           4.0                2            0      0     0   \n",
       "1         2           5.0                0            0      0     0   \n",
       "2         3           4.0                2            0      0     0   \n",
       "3         4           4.0                2            0      0     0   \n",
       "4         5           1.0                1            0      0     0   \n",
       "\n",
       "   crash_id  lighting  occupants  b_level_count  ...  highway_classification  \\\n",
       "0   7929715         1          2              0  ...                       9   \n",
       "1   7931144         1          3              0  ...                       9   \n",
       "2   7854992         1          0              0  ...                       9   \n",
       "3   7940235         1          3              0  ...                       9   \n",
       "4   7932532         1          1              0  ...                       3   \n",
       "\n",
       "   crash_type  train  weather  property_damage  lane_departure  primary_road  \\\n",
       "0           4      0        2                1               0       HENDRIE   \n",
       "1           4      0        1                1               0  E STATE FAIR   \n",
       "2           5      0        2                1               0    FOREST AVE   \n",
       "3           8      0        1                1               0  W FOREST AVE   \n",
       "4           1      0        5                1               1          109C   \n",
       "\n",
       "   alcohol  drug  elderly  \n",
       "0        0     0        0  \n",
       "1        0     0        0  \n",
       "2        0     0        0  \n",
       "3        0     0        0  \n",
       "4        0     0        0  \n",
       "\n",
       "[5 rows x 37 columns]"
      ]
     },
     "execution_count": 2,
     "metadata": {},
     "output_type": "execute_result"
    }
   ],
   "source": [
    "crashesDf = pd.read_csv('https://raw.githubusercontent.com/nvyas1-git/Traffic_Crash_Project_602/main/data/Traffic_Crashes.csv')\n",
    "crashesDf.head()"
   ]
  },
  {
   "cell_type": "code",
   "execution_count": 3,
   "id": "fe405a39",
   "metadata": {},
   "outputs": [
    {
     "data": {
      "text/plain": [
       "Index(['OBJECTID', 'jurisdiction', 'number_of_lanes', 'fatal_count', 'young',\n",
       "       'deer', 'crash_id', 'lighting', 'occupants', 'b_level_count',\n",
       "       'pedestrian', 'dis_ctrl_i', 'datetime', 'road_condition',\n",
       "       'number_of_units', 'school_bus', 'speed_limit', 'hour', 'hit_and_run',\n",
       "       'bicycle', 'motorcycle', 'a_level_count', 'c_level_count',\n",
       "       'most_severe_injury', 'red_light_running', 'weekday',\n",
       "       'intersecting_road', 'highway_classification', 'crash_type', 'train',\n",
       "       'weather', 'property_damage', 'lane_departure', 'primary_road',\n",
       "       'alcohol', 'drug', 'elderly'],\n",
       "      dtype='object')"
      ]
     },
     "execution_count": 3,
     "metadata": {},
     "output_type": "execute_result"
    }
   ],
   "source": [
    "crashesDf.columns\n",
    "objectid, young,deer,crash_id,"
   ]
  },
  {
   "cell_type": "code",
   "execution_count": 4,
   "id": "d6834ccc",
   "metadata": {},
   "outputs": [
    {
     "data": {
      "text/plain": [
       "array([25,  0, 30, 55, 70, 35, 40, 15, 10, 53, 65, 20, 45, 50, 23,  5, 60,\n",
       "       38, 90, 75, 36, 33, 95, 28, 37,  3], dtype=int64)"
      ]
     },
     "execution_count": 4,
     "metadata": {},
     "output_type": "execute_result"
    }
   ],
   "source": [
    "crashesDf.speed_limit.unique()"
   ]
  },
  {
   "cell_type": "code",
   "execution_count": 7,
   "id": "9e88cbc2",
   "metadata": {},
   "outputs": [],
   "source": [
    "crashesDf.dropna(axis=0, inplace=True)"
   ]
  },
  {
   "cell_type": "code",
   "execution_count": 13,
   "id": "e6777d49",
   "metadata": {},
   "outputs": [
    {
     "data": {
      "text/plain": [
       "0     5035\n",
       "15     626\n",
       "20     606\n",
       "10     100\n",
       "5       55\n",
       "23       4\n",
       "3        1\n",
       "Name: speed_limit, dtype: int64"
      ]
     },
     "execution_count": 13,
     "metadata": {},
     "output_type": "execute_result"
    }
   ],
   "source": [
    "crashesDf[crashesDf['speed_limit']<25]['speed_limit'].value_counts()"
   ]
  },
  {
   "cell_type": "code",
   "execution_count": 15,
   "id": "e1dff7af",
   "metadata": {},
   "outputs": [],
   "source": [
    "# speedlimit of 0 provided too noise and can mislead as the records having speed_limit 0-5 are more than 5k\n",
    "crashesDf = crashesDf[crashesDf['speed_limit']>5]"
   ]
  },
  {
   "cell_type": "code",
   "execution_count": 18,
   "id": "63176793",
   "metadata": {},
   "outputs": [
    {
     "data": {
      "image/png": "[encoded data removed]",
      "text/plain": [
       "<Figure size 432x288 with 1 Axes>"
      ]
     },
     "metadata": {
      "needs_background": "light"
     },
     "output_type": "display_data"
    }
   ],
   "source": [
    "plt.title('Speed Limit Distribution')\n",
    "plt.xlabel(\"Speed in miles/hr\")\n",
    "crashesDf.speed_limit.hist()\n",
    "plt.show()"
   ]
  },
  {
   "cell_type": "code",
   "execution_count": 19,
   "id": "3344f1b1",
   "metadata": {},
   "outputs": [
    {
     "data": {
      "text/plain": [
       "2     102372\n",
       "1      18820\n",
       "3       7725\n",
       "4       1229\n",
       "5        231\n",
       "6         55\n",
       "7         10\n",
       "8          5\n",
       "10         2\n",
       "9          2\n",
       "11         1\n",
       "16         1\n",
       "Name: number_of_units, dtype: int64"
      ]
     },
     "execution_count": 19,
     "metadata": {},
     "output_type": "execute_result"
    }
   ],
   "source": [
    "# No updates in number_of_units\n",
    "crashesDf['number_of_units'].value_counts()"
   ]
  },
  {
   "cell_type": "code",
   "execution_count": 44,
   "id": "ff84d96f",
   "metadata": {},
   "outputs": [
    {
     "data": {
      "text/plain": [
       "-217"
      ]
     },
     "execution_count": 44,
     "metadata": {},
     "output_type": "execute_result"
    }
   ],
   "source": [
    "# occupants \n",
    "crashesDf[crashesDf['occupants']<20].shape[0] - crashesDf.shape[0] #.plot.barh(figsize=(10,10))"
   ]
  },
  {
   "cell_type": "code",
   "execution_count": 46,
   "id": "19ba3883",
   "metadata": {},
   "outputs": [
    {
     "data": {
      "text/html": [
       "<div>\n",
       "<style scoped>\n",
       "    .dataframe tbody tr th:only-of-type {\n",
       "        vertical-align: middle;\n",
       "    }\n",
       "\n",
       "    .dataframe tbody tr th {\n",
       "        vertical-align: top;\n",
       "    }\n",
       "\n",
       "    .dataframe thead th {\n",
       "        text-align: right;\n",
       "    }\n",
       "</style>\n",
       "<table border=\"1\" class=\"dataframe\">\n",
       "  <thead>\n",
       "    <tr style=\"text-align: right;\">\n",
       "      <th></th>\n",
       "      <th>OBJECTID</th>\n",
       "      <th>jurisdiction</th>\n",
       "      <th>number_of_lanes</th>\n",
       "      <th>fatal_count</th>\n",
       "      <th>young</th>\n",
       "      <th>deer</th>\n",
       "      <th>crash_id</th>\n",
       "      <th>lighting</th>\n",
       "      <th>occupants</th>\n",
       "      <th>b_level_count</th>\n",
       "      <th>...</th>\n",
       "      <th>highway_classification</th>\n",
       "      <th>crash_type</th>\n",
       "      <th>train</th>\n",
       "      <th>weather</th>\n",
       "      <th>property_damage</th>\n",
       "      <th>lane_departure</th>\n",
       "      <th>primary_road</th>\n",
       "      <th>alcohol</th>\n",
       "      <th>drug</th>\n",
       "      <th>elderly</th>\n",
       "    </tr>\n",
       "  </thead>\n",
       "  <tbody>\n",
       "    <tr>\n",
       "      <th>0</th>\n",
       "      <td>1</td>\n",
       "      <td>4.0</td>\n",
       "      <td>2</td>\n",
       "      <td>0</td>\n",
       "      <td>0</td>\n",
       "      <td>0</td>\n",
       "      <td>7929715</td>\n",
       "      <td>1</td>\n",
       "      <td>2</td>\n",
       "      <td>0</td>\n",
       "      <td>...</td>\n",
       "      <td>9</td>\n",
       "      <td>4</td>\n",
       "      <td>0</td>\n",
       "      <td>2</td>\n",
       "      <td>1</td>\n",
       "      <td>0</td>\n",
       "      <td>HENDRIE</td>\n",
       "      <td>0</td>\n",
       "      <td>0</td>\n",
       "      <td>0</td>\n",
       "    </tr>\n",
       "    <tr>\n",
       "      <th>2</th>\n",
       "      <td>3</td>\n",
       "      <td>4.0</td>\n",
       "      <td>2</td>\n",
       "      <td>0</td>\n",
       "      <td>0</td>\n",
       "      <td>0</td>\n",
       "      <td>7854992</td>\n",
       "      <td>1</td>\n",
       "      <td>0</td>\n",
       "      <td>0</td>\n",
       "      <td>...</td>\n",
       "      <td>9</td>\n",
       "      <td>5</td>\n",
       "      <td>0</td>\n",
       "      <td>2</td>\n",
       "      <td>1</td>\n",
       "      <td>0</td>\n",
       "      <td>FOREST AVE</td>\n",
       "      <td>0</td>\n",
       "      <td>0</td>\n",
       "      <td>0</td>\n",
       "    </tr>\n",
       "    <tr>\n",
       "      <th>3</th>\n",
       "      <td>4</td>\n",
       "      <td>4.0</td>\n",
       "      <td>2</td>\n",
       "      <td>0</td>\n",
       "      <td>0</td>\n",
       "      <td>0</td>\n",
       "      <td>7940235</td>\n",
       "      <td>1</td>\n",
       "      <td>3</td>\n",
       "      <td>0</td>\n",
       "      <td>...</td>\n",
       "      <td>9</td>\n",
       "      <td>8</td>\n",
       "      <td>0</td>\n",
       "      <td>1</td>\n",
       "      <td>1</td>\n",
       "      <td>0</td>\n",
       "      <td>W FOREST AVE</td>\n",
       "      <td>0</td>\n",
       "      <td>0</td>\n",
       "      <td>0</td>\n",
       "    </tr>\n",
       "    <tr>\n",
       "      <th>4</th>\n",
       "      <td>5</td>\n",
       "      <td>1.0</td>\n",
       "      <td>1</td>\n",
       "      <td>0</td>\n",
       "      <td>0</td>\n",
       "      <td>0</td>\n",
       "      <td>7932532</td>\n",
       "      <td>1</td>\n",
       "      <td>1</td>\n",
       "      <td>0</td>\n",
       "      <td>...</td>\n",
       "      <td>3</td>\n",
       "      <td>1</td>\n",
       "      <td>0</td>\n",
       "      <td>5</td>\n",
       "      <td>1</td>\n",
       "      <td>1</td>\n",
       "      <td>109C</td>\n",
       "      <td>0</td>\n",
       "      <td>0</td>\n",
       "      <td>0</td>\n",
       "    </tr>\n",
       "    <tr>\n",
       "      <th>5</th>\n",
       "      <td>6</td>\n",
       "      <td>1.0</td>\n",
       "      <td>3</td>\n",
       "      <td>0</td>\n",
       "      <td>0</td>\n",
       "      <td>0</td>\n",
       "      <td>7950625</td>\n",
       "      <td>1</td>\n",
       "      <td>1</td>\n",
       "      <td>0</td>\n",
       "      <td>...</td>\n",
       "      <td>3</td>\n",
       "      <td>8</td>\n",
       "      <td>0</td>\n",
       "      <td>1</td>\n",
       "      <td>1</td>\n",
       "      <td>0</td>\n",
       "      <td>N M 39</td>\n",
       "      <td>0</td>\n",
       "      <td>0</td>\n",
       "      <td>0</td>\n",
       "    </tr>\n",
       "  </tbody>\n",
       "</table>\n",
       "<p>5 rows × 37 columns</p>\n",
       "</div>"
      ],
      "text/plain": [
       "   OBJECTID  jurisdiction  number_of_lanes  fatal_count  young  deer  \\\n",
       "0         1           4.0                2            0      0     0   \n",
       "2         3           4.0                2            0      0     0   \n",
       "3         4           4.0                2            0      0     0   \n",
       "4         5           1.0                1            0      0     0   \n",
       "5         6           1.0                3            0      0     0   \n",
       "\n",
       "   crash_id  lighting  occupants  b_level_count  ...  highway_classification  \\\n",
       "0   7929715         1          2              0  ...                       9   \n",
       "2   7854992         1          0              0  ...                       9   \n",
       "3   7940235         1          3              0  ...                       9   \n",
       "4   7932532         1          1              0  ...                       3   \n",
       "5   7950625         1          1              0  ...                       3   \n",
       "\n",
       "   crash_type  train  weather  property_damage  lane_departure  primary_road  \\\n",
       "0           4      0        2                1               0       HENDRIE   \n",
       "2           5      0        2                1               0    FOREST AVE   \n",
       "3           8      0        1                1               0  W FOREST AVE   \n",
       "4           1      0        5                1               1          109C   \n",
       "5           8      0        1                1               0        N M 39   \n",
       "\n",
       "   alcohol  drug  elderly  \n",
       "0        0     0        0  \n",
       "2        0     0        0  \n",
       "3        0     0        0  \n",
       "4        0     0        0  \n",
       "5        0     0        0  \n",
       "\n",
       "[5 rows x 37 columns]"
      ]
     },
     "execution_count": 46,
     "metadata": {},
     "output_type": "execute_result"
    }
   ],
   "source": [
    "# From the above, keeping only the records which has less than 20 occupants\n",
    "crashesDf=crashesDf[crashesDf['occupants']<20]\n",
    "crashesDf.head()"
   ]
  },
  {
   "cell_type": "code",
   "execution_count": 50,
   "id": "af9b1a89",
   "metadata": {},
   "outputs": [
    {
     "data": {
      "text/html": [
       "<div>\n",
       "<style scoped>\n",
       "    .dataframe tbody tr th:only-of-type {\n",
       "        vertical-align: middle;\n",
       "    }\n",
       "\n",
       "    .dataframe tbody tr th {\n",
       "        vertical-align: top;\n",
       "    }\n",
       "\n",
       "    .dataframe thead th {\n",
       "        text-align: right;\n",
       "    }\n",
       "</style>\n",
       "<table border=\"1\" class=\"dataframe\">\n",
       "  <thead>\n",
       "    <tr style=\"text-align: right;\">\n",
       "      <th></th>\n",
       "      <th></th>\n",
       "      <th></th>\n",
       "      <th>drug</th>\n",
       "      <th>alcohol</th>\n",
       "    </tr>\n",
       "    <tr>\n",
       "      <th>fatal_count</th>\n",
       "      <th>drug</th>\n",
       "      <th>alcohol</th>\n",
       "      <th></th>\n",
       "      <th></th>\n",
       "    </tr>\n",
       "  </thead>\n",
       "  <tbody>\n",
       "    <tr>\n",
       "      <th rowspan=\"4\" valign=\"top\">0</th>\n",
       "      <th rowspan=\"2\" valign=\"top\">0</th>\n",
       "      <th>0</th>\n",
       "      <td>126405</td>\n",
       "      <td>126405</td>\n",
       "    </tr>\n",
       "    <tr>\n",
       "      <th>1</th>\n",
       "      <td>2632</td>\n",
       "      <td>2632</td>\n",
       "    </tr>\n",
       "    <tr>\n",
       "      <th rowspan=\"2\" valign=\"top\">1</th>\n",
       "      <th>0</th>\n",
       "      <td>298</td>\n",
       "      <td>298</td>\n",
       "    </tr>\n",
       "    <tr>\n",
       "      <th>1</th>\n",
       "      <td>272</td>\n",
       "      <td>272</td>\n",
       "    </tr>\n",
       "    <tr>\n",
       "      <th rowspan=\"4\" valign=\"top\">1</th>\n",
       "      <th rowspan=\"2\" valign=\"top\">0</th>\n",
       "      <th>0</th>\n",
       "      <td>425</td>\n",
       "      <td>425</td>\n",
       "    </tr>\n",
       "    <tr>\n",
       "      <th>1</th>\n",
       "      <td>86</td>\n",
       "      <td>86</td>\n",
       "    </tr>\n",
       "    <tr>\n",
       "      <th rowspan=\"2\" valign=\"top\">1</th>\n",
       "      <th>0</th>\n",
       "      <td>34</td>\n",
       "      <td>34</td>\n",
       "    </tr>\n",
       "    <tr>\n",
       "      <th>1</th>\n",
       "      <td>39</td>\n",
       "      <td>39</td>\n",
       "    </tr>\n",
       "    <tr>\n",
       "      <th rowspan=\"3\" valign=\"top\">2</th>\n",
       "      <th rowspan=\"2\" valign=\"top\">0</th>\n",
       "      <th>0</th>\n",
       "      <td>24</td>\n",
       "      <td>24</td>\n",
       "    </tr>\n",
       "    <tr>\n",
       "      <th>1</th>\n",
       "      <td>6</td>\n",
       "      <td>6</td>\n",
       "    </tr>\n",
       "    <tr>\n",
       "      <th>1</th>\n",
       "      <th>1</th>\n",
       "      <td>6</td>\n",
       "      <td>6</td>\n",
       "    </tr>\n",
       "    <tr>\n",
       "      <th rowspan=\"3\" valign=\"top\">3</th>\n",
       "      <th rowspan=\"2\" valign=\"top\">0</th>\n",
       "      <th>0</th>\n",
       "      <td>5</td>\n",
       "      <td>5</td>\n",
       "    </tr>\n",
       "    <tr>\n",
       "      <th>1</th>\n",
       "      <td>1</td>\n",
       "      <td>1</td>\n",
       "    </tr>\n",
       "    <tr>\n",
       "      <th>1</th>\n",
       "      <th>1</th>\n",
       "      <td>1</td>\n",
       "      <td>1</td>\n",
       "    </tr>\n",
       "    <tr>\n",
       "      <th rowspan=\"2\" valign=\"top\">4</th>\n",
       "      <th rowspan=\"2\" valign=\"top\">0</th>\n",
       "      <th>0</th>\n",
       "      <td>1</td>\n",
       "      <td>1</td>\n",
       "    </tr>\n",
       "    <tr>\n",
       "      <th>1</th>\n",
       "      <td>1</td>\n",
       "      <td>1</td>\n",
       "    </tr>\n",
       "  </tbody>\n",
       "</table>\n",
       "</div>"
      ],
      "text/plain": [
       "                            drug  alcohol\n",
       "fatal_count drug alcohol                 \n",
       "0           0    0        126405   126405\n",
       "                 1          2632     2632\n",
       "            1    0           298      298\n",
       "                 1           272      272\n",
       "1           0    0           425      425\n",
       "                 1            86       86\n",
       "            1    0            34       34\n",
       "                 1            39       39\n",
       "2           0    0            24       24\n",
       "                 1             6        6\n",
       "            1    1             6        6\n",
       "3           0    0             5        5\n",
       "                 1             1        1\n",
       "            1    1             1        1\n",
       "4           0    0             1        1\n",
       "                 1             1        1"
      ]
     },
     "execution_count": 50,
     "metadata": {},
     "output_type": "execute_result"
    }
   ],
   "source": [
    "crashesDf.groupby(by=['fatal_count','drug','alcohol'])[['drug','alcohol']].count()"
   ]
  },
  {
   "cell_type": "code",
   "execution_count": 51,
   "id": "1972cce1",
   "metadata": {},
   "outputs": [
    {
     "data": {
      "text/plain": [
       "1     84345\n",
       "4     32797\n",
       "5      5940\n",
       "3      3282\n",
       "2      2612\n",
       "6       679\n",
       "98      457\n",
       "0       104\n",
       "97       20\n",
       "Name: lighting, dtype: int64"
      ]
     },
     "execution_count": 51,
     "metadata": {},
     "output_type": "execute_result"
    }
   ],
   "source": [
    "crashesDf['lighting'].value_counts()"
   ]
  },
  {
   "cell_type": "code",
   "execution_count": 52,
   "id": "b1623a41",
   "metadata": {},
   "outputs": [
    {
     "data": {
      "text/plain": [
       "5     38086\n",
       "4     25146\n",
       "8     24583\n",
       "1     20292\n",
       "10     7641\n",
       "97     4172\n",
       "9      3180\n",
       "3      2481\n",
       "2      2235\n",
       "6      1174\n",
       "7       696\n",
       "98      462\n",
       "0        88\n",
       "Name: crash_type, dtype: int64"
      ]
     },
     "execution_count": 52,
     "metadata": {},
     "output_type": "execute_result"
    }
   ],
   "source": [
    "crashesDf['crash_type'].value_counts()"
   ]
  },
  {
   "cell_type": "code",
   "execution_count": 53,
   "id": "7f165b03",
   "metadata": {},
   "outputs": [
    {
     "data": {
      "text/plain": [
       "0    127757\n",
       "1      2070\n",
       "2       309\n",
       "3        64\n",
       "4        26\n",
       "5         5\n",
       "6         2\n",
       "8         2\n",
       "7         1\n",
       "Name: a_level_count, dtype: int64"
      ]
     },
     "execution_count": 53,
     "metadata": {},
     "output_type": "execute_result"
    }
   ],
   "source": [
    "crashesDf['a_level_count'].value_counts()"
   ]
  },
  {
   "cell_type": "code",
   "execution_count": 54,
   "id": "d4a7cded",
   "metadata": {},
   "outputs": [
    {
     "data": {
      "text/plain": [
       "0     123641\n",
       "1       5526\n",
       "2        831\n",
       "3        169\n",
       "4         52\n",
       "5         12\n",
       "6          3\n",
       "14         1\n",
       "7          1\n",
       "Name: b_level_count, dtype: int64"
      ]
     },
     "execution_count": 54,
     "metadata": {},
     "output_type": "execute_result"
    }
   ],
   "source": [
    "crashesDf['b_level_count'].value_counts()"
   ]
  },
  {
   "cell_type": "code",
   "execution_count": 55,
   "id": "cc85063c",
   "metadata": {},
   "outputs": [
    {
     "data": {
      "text/plain": [
       "0     103996\n",
       "1      19472\n",
       "2       4860\n",
       "3       1366\n",
       "4        401\n",
       "5         81\n",
       "6         39\n",
       "7         12\n",
       "9          4\n",
       "8          2\n",
       "10         2\n",
       "13         1\n",
       "Name: c_level_count, dtype: int64"
      ]
     },
     "execution_count": 55,
     "metadata": {},
     "output_type": "execute_result"
    }
   ],
   "source": [
    "crashesDf['c_level_count'].value_counts()"
   ]
  },
  {
   "cell_type": "code",
   "execution_count": 56,
   "id": "13778d09",
   "metadata": {},
   "outputs": [
    {
     "name": "stdout",
     "output_type": "stream",
     "text": [
      "Drug:  (332, 37)\n",
      "Alcohol:  (2726, 37)\n",
      "Alcohol Drug:  (318, 37)\n",
      "Unconsumed:  (126860, 37)\n",
      "Summation of categorized records 130236\n",
      "CrashesDF records:  130236\n"
     ]
    },
    {
     "data": {
      "text/plain": [
       "Clean      126860\n",
       "Alcohol      2726\n",
       "Drug          650\n",
       "Name: target, dtype: int64"
      ]
     },
     "execution_count": 56,
     "metadata": {},
     "output_type": "execute_result"
    }
   ],
   "source": [
    "# Class Fragmentation as per target and then combining them into One Dataframe\n",
    "crashesDfNAClean = crashesDf\n",
    "drug_consumptionDf = crashesDfNAClean[(crashesDfNAClean['alcohol']==0)&(crashesDfNAClean['drug']==1)]\n",
    "print('Drug: ',drug_consumptionDf.shape)\n",
    "\n",
    "alcohol_consumptionDf = crashesDfNAClean[(crashesDfNAClean['alcohol']==1)&(crashesDfNAClean['drug']==0)]\n",
    "print('Alcohol: ',alcohol_consumptionDf.shape)\n",
    "\n",
    "alcohol_drug_consumptionDf = crashesDfNAClean[(crashesDfNAClean['alcohol']==1)&(crashesDfNAClean['drug']==1)]\n",
    "print('Alcohol Drug: ',alcohol_drug_consumptionDf.shape)\n",
    "\n",
    "unconsumedDf = crashesDfNAClean[(crashesDfNAClean['alcohol']==0)&(crashesDfNAClean['drug']==0)]\n",
    "print('Unconsumed: ',unconsumedDf.shape)\n",
    "\n",
    "print('Summation of categorized records',(drug_consumptionDf.shape[0] + alcohol_consumptionDf.shape[0]+ alcohol_drug_consumptionDf.shape[0]+unconsumedDf.shape[0]))\n",
    "print('CrashesDF records: ', crashesDfNAClean.shape[0])\n",
    "\n",
    "with warnings.catch_warnings():\n",
    "    warnings.filterwarnings(\"ignore\")\n",
    "    drug_consumptionDfNew = pd.concat([drug_consumptionDf,alcohol_drug_consumptionDf],axis=0)\n",
    "    drug_consumptionDfNew['target'] = 'Drug'\n",
    "    alcohol_consumptionDf['target'] = 'Alcohol'\n",
    "    unconsumedDf['target']='Clean'\n",
    "\n",
    "crashesEditedDf = pd.concat([drug_consumptionDfNew, alcohol_consumptionDf, unconsumedDf], axis=0)\n",
    "crashesEditedDf['target'].value_counts()"
   ]
  },
  {
   "cell_type": "code",
   "execution_count": 63,
   "id": "e3a465ab",
   "metadata": {},
   "outputs": [
    {
     "data": {
      "text/html": [
       "<div>\n",
       "<style scoped>\n",
       "    .dataframe tbody tr th:only-of-type {\n",
       "        vertical-align: middle;\n",
       "    }\n",
       "\n",
       "    .dataframe tbody tr th {\n",
       "        vertical-align: top;\n",
       "    }\n",
       "\n",
       "    .dataframe thead th {\n",
       "        text-align: right;\n",
       "    }\n",
       "</style>\n",
       "<table border=\"1\" class=\"dataframe\">\n",
       "  <thead>\n",
       "    <tr style=\"text-align: right;\">\n",
       "      <th></th>\n",
       "      <th>speed_limit</th>\n",
       "      <th>number_of_units</th>\n",
       "      <th>occupants</th>\n",
       "      <th>fatal_count</th>\n",
       "      <th>lighting</th>\n",
       "      <th>crash_type</th>\n",
       "      <th>highway_classification</th>\n",
       "      <th>hour</th>\n",
       "      <th>weekday</th>\n",
       "      <th>a_level_count</th>\n",
       "      <th>b_level_count</th>\n",
       "      <th>c_level_count</th>\n",
       "      <th>target</th>\n",
       "    </tr>\n",
       "  </thead>\n",
       "  <tbody>\n",
       "    <tr>\n",
       "      <th>1914</th>\n",
       "      <td>30</td>\n",
       "      <td>2</td>\n",
       "      <td>2</td>\n",
       "      <td>0</td>\n",
       "      <td>1</td>\n",
       "      <td>5</td>\n",
       "      <td>9</td>\n",
       "      <td>14.0</td>\n",
       "      <td>3</td>\n",
       "      <td>0</td>\n",
       "      <td>0</td>\n",
       "      <td>0</td>\n",
       "      <td>Drug</td>\n",
       "    </tr>\n",
       "    <tr>\n",
       "      <th>2111</th>\n",
       "      <td>35</td>\n",
       "      <td>2</td>\n",
       "      <td>2</td>\n",
       "      <td>0</td>\n",
       "      <td>1</td>\n",
       "      <td>9</td>\n",
       "      <td>3</td>\n",
       "      <td>15.0</td>\n",
       "      <td>2</td>\n",
       "      <td>0</td>\n",
       "      <td>0</td>\n",
       "      <td>0</td>\n",
       "      <td>Drug</td>\n",
       "    </tr>\n",
       "    <tr>\n",
       "      <th>2699</th>\n",
       "      <td>70</td>\n",
       "      <td>2</td>\n",
       "      <td>2</td>\n",
       "      <td>0</td>\n",
       "      <td>1</td>\n",
       "      <td>10</td>\n",
       "      <td>1</td>\n",
       "      <td>12.0</td>\n",
       "      <td>2</td>\n",
       "      <td>0</td>\n",
       "      <td>0</td>\n",
       "      <td>0</td>\n",
       "      <td>Drug</td>\n",
       "    </tr>\n",
       "    <tr>\n",
       "      <th>4963</th>\n",
       "      <td>30</td>\n",
       "      <td>1</td>\n",
       "      <td>1</td>\n",
       "      <td>0</td>\n",
       "      <td>1</td>\n",
       "      <td>1</td>\n",
       "      <td>9</td>\n",
       "      <td>18.0</td>\n",
       "      <td>7</td>\n",
       "      <td>0</td>\n",
       "      <td>1</td>\n",
       "      <td>0</td>\n",
       "      <td>Drug</td>\n",
       "    </tr>\n",
       "    <tr>\n",
       "      <th>5266</th>\n",
       "      <td>25</td>\n",
       "      <td>2</td>\n",
       "      <td>1</td>\n",
       "      <td>0</td>\n",
       "      <td>1</td>\n",
       "      <td>4</td>\n",
       "      <td>9</td>\n",
       "      <td>15.0</td>\n",
       "      <td>6</td>\n",
       "      <td>0</td>\n",
       "      <td>0</td>\n",
       "      <td>1</td>\n",
       "      <td>Drug</td>\n",
       "    </tr>\n",
       "  </tbody>\n",
       "</table>\n",
       "</div>"
      ],
      "text/plain": [
       "      speed_limit  number_of_units  occupants  fatal_count  lighting  \\\n",
       "1914           30                2          2            0         1   \n",
       "2111           35                2          2            0         1   \n",
       "2699           70                2          2            0         1   \n",
       "4963           30                1          1            0         1   \n",
       "5266           25                2          1            0         1   \n",
       "\n",
       "      crash_type  highway_classification  hour  weekday  a_level_count  \\\n",
       "1914           5                       9  14.0        3              0   \n",
       "2111           9                       3  15.0        2              0   \n",
       "2699          10                       1  12.0        2              0   \n",
       "4963           1                       9  18.0        7              0   \n",
       "5266           4                       9  15.0        6              0   \n",
       "\n",
       "      b_level_count  c_level_count target  \n",
       "1914              0              0   Drug  \n",
       "2111              0              0   Drug  \n",
       "2699              0              0   Drug  \n",
       "4963              1              0   Drug  \n",
       "5266              0              1   Drug  "
      ]
     },
     "execution_count": 63,
     "metadata": {},
     "output_type": "execute_result"
    }
   ],
   "source": [
    "\n",
    "columns = ['speed_limit','number_of_units','occupants','fatal_count','lighting','crash_type','highway_classification','hour','weekday','a_level_count','b_level_count','c_level_count','target']\n",
    "crashesEditedDf[columns].head()"
   ]
  },
  {
   "cell_type": "code",
   "execution_count": 72,
   "id": "c8412a37",
   "metadata": {},
   "outputs": [],
   "source": [
    "def LogRegPipeline(C,penalty, solver, max_iter, X_train, y_train, X_test, y_test,class_weight=None):\n",
    "    penalty = penalty\n",
    "    solver= solver\n",
    "    max_iter = max_iter\n",
    "    X_train = X_train\n",
    "    y_train = y_train\n",
    "    X_test = X_test\n",
    "    y_test = y_test\n",
    "    class_weight =class_weight \n",
    "    \n",
    "    LRpipe = Pipeline([\n",
    "                     ('std', StandardScaler()),\n",
    "                     ('lr',LogisticRegression(C=C,penalty = penalty, solver=solver, max_iter=max_iter,class_weight=class_weight))\n",
    "    ])\n",
    "    model = LRpipe.fit(X_train,y_train)\n",
    "    print(model)\n",
    "    print('\\n Training Score: ',model.score(X_train,y_train),'\\n')\n",
    "\n",
    "    preds = model.predict(X_test)\n",
    "\n",
    "    print(classification_report(y_pred=preds, y_true=y_test, zero_division=0))\n",
    "    \n",
    "    cm= confusion_matrix(y_pred=preds, y_true=y_test)\n",
    "    plt.figure(figsize=(7,6))\n",
    "    sns.heatmap(cm, annot=True)\n",
    "    plt.xlabel('Predicted')\n",
    "    plt.ylabel('Actual')\n",
    "    plt.tight_layout()\n",
    "    plt.show()"
   ]
  },
  {
   "cell_type": "code",
   "execution_count": 62,
   "id": "e1c89230",
   "metadata": {},
   "outputs": [],
   "source": [
    "def create_splits(X,y, test_size=0.15, random_state=101, stratify=None):\n",
    "    X = X\n",
    "    y = y\n",
    "    random_state = random_state\n",
    "    test_size = test_size\n",
    "    stratify = stratify\n",
    "    from sklearn.model_selection import train_test_split\n",
    "    X_train, X_test, y_train, y_test = train_test_split(X,y,test_size= test_size, random_state=random_state, stratify=stratify)\n",
    "    return(X_train, X_test, y_train, y_test)"
   ]
  },
  {
   "cell_type": "code",
   "execution_count": 67,
   "id": "fad0b589",
   "metadata": {},
   "outputs": [],
   "source": [
    "X = crashesEditedDf[columns].drop(columns='target')\n",
    "y = crashesEditedDf['target']"
   ]
  },
  {
   "cell_type": "code",
   "execution_count": 68,
   "id": "d97aa305",
   "metadata": {},
   "outputs": [],
   "source": [
    "# Train Test Split\n",
    "X_train, X_test, y_train, y_test = create_splits(X=X,y=y, stratify=y)"
   ]
  },
  {
   "cell_type": "code",
   "execution_count": 73,
   "id": "45527a5d",
   "metadata": {},
   "outputs": [
    {
     "name": "stdout",
     "output_type": "stream",
     "text": [
      "Pipeline(steps=[('std', StandardScaler()),\n",
      "                ('lr', LogisticRegression(C=1, max_iter=1000))])\n",
      "\n",
      " Training Score:  0.9737940379403794 \n",
      "\n",
      "              precision    recall  f1-score   support\n",
      "\n",
      "     Alcohol       0.12      0.00      0.00       409\n",
      "       Clean       0.97      1.00      0.99     19030\n",
      "        Drug       0.20      0.01      0.02        97\n",
      "\n",
      "    accuracy                           0.97     19536\n",
      "   macro avg       0.43      0.34      0.34     19536\n",
      "weighted avg       0.95      0.97      0.96     19536\n",
      "\n"
     ]
    },
    {
     "data": {
      "image/png": "[encoded data removed]",
      "text/plain": [
       "<Figure size 504x432 with 2 Axes>"
      ]
     },
     "metadata": {
      "needs_background": "light"
     },
     "output_type": "display_data"
    }
   ],
   "source": [
    "# Logistic Regression Pipeline\n",
    "LogRegPipeline(C=1,penalty = 'l2', solver='lbfgs', max_iter=1000,X_train=X_train,y_train=y_train,X_test=X_test,y_test=y_test)"
   ]
  },
  {
   "cell_type": "code",
   "execution_count": 74,
   "id": "85cd87f6",
   "metadata": {},
   "outputs": [
    {
     "name": "stdout",
     "output_type": "stream",
     "text": [
      "Pipeline(steps=[('std', StandardScaler()),\n",
      "                ('lr',\n",
      "                 LogisticRegression(C=1, class_weight='balanced',\n",
      "                                    max_iter=1000))])\n",
      "\n",
      " Training Score:  0.7472086720867208 \n",
      "\n",
      "              precision    recall  f1-score   support\n",
      "\n",
      "     Alcohol       0.05      0.45      0.09       409\n",
      "       Clean       0.99      0.75      0.85     19030\n",
      "        Drug       0.02      0.28      0.04        97\n",
      "\n",
      "    accuracy                           0.74     19536\n",
      "   macro avg       0.35      0.49      0.33     19536\n",
      "weighted avg       0.96      0.74      0.83     19536\n",
      "\n"
     ]
    },
    {
     "data": {
      "image/png": "[encoded data removed]",
      "text/plain": [
       "<Figure size 504x432 with 2 Axes>"
      ]
     },
     "metadata": {
      "needs_background": "light"
     },
     "output_type": "display_data"
    }
   ],
   "source": [
    "LogRegPipeline(C=1,penalty = 'l2', solver='lbfgs', max_iter=1000,X_train=X_train,y_train=y_train,X_test=X_test,y_test=y_test,class_weight='balanced')"
   ]
  },
  {
   "cell_type": "code",
   "execution_count": 89,
   "id": "e4390d68",
   "metadata": {},
   "outputs": [
    {
     "data": {
      "text/html": [
       "<style>#sk-container-id-3 {color: black;background-color: white;}#sk-container-id-3 pre{padding: 0;}#sk-container-id-3 div.sk-toggleable {background-color: white;}#sk-container-id-3 label.sk-toggleable__label {cursor: pointer;display: block;width: 100%;margin-bottom: 0;padding: 0.3em;box-sizing: border-box;text-align: center;}#sk-container-id-3 label.sk-toggleable__label-arrow:before {content: \"▸\";float: left;margin-right: 0.25em;color: #696969;}#sk-container-id-3 label.sk-toggleable__label-arrow:hover:before {color: black;}#sk-container-id-3 div.sk-estimator:hover label.sk-toggleable__label-arrow:before {color: black;}#sk-container-id-3 div.sk-toggleable__content {max-height: 0;max-width: 0;overflow: hidden;text-align: left;background-color: #f0f8ff;}#sk-container-id-3 div.sk-toggleable__content pre {margin: 0.2em;color: black;border-radius: 0.25em;background-color: #f0f8ff;}#sk-container-id-3 input.sk-toggleable__control:checked~div.sk-toggleable__content {max-height: 200px;max-width: 100%;overflow: auto;}#sk-container-id-3 input.sk-toggleable__control:checked~label.sk-toggleable__label-arrow:before {content: \"▾\";}#sk-container-id-3 div.sk-estimator input.sk-toggleable__control:checked~label.sk-toggleable__label {background-color: #d4ebff;}#sk-container-id-3 div.sk-label input.sk-toggleable__control:checked~label.sk-toggleable__label {background-color: #d4ebff;}#sk-container-id-3 input.sk-hidden--visually {border: 0;clip: rect(1px 1px 1px 1px);clip: rect(1px, 1px, 1px, 1px);height: 1px;margin: -1px;overflow: hidden;padding: 0;position: absolute;width: 1px;}#sk-container-id-3 div.sk-estimator {font-family: monospace;background-color: #f0f8ff;border: 1px dotted black;border-radius: 0.25em;box-sizing: border-box;margin-bottom: 0.5em;}#sk-container-id-3 div.sk-estimator:hover {background-color: #d4ebff;}#sk-container-id-3 div.sk-parallel-item::after {content: \"\";width: 100%;border-bottom: 1px solid gray;flex-grow: 1;}#sk-container-id-3 div.sk-label:hover label.sk-toggleable__label {background-color: #d4ebff;}#sk-container-id-3 div.sk-serial::before {content: \"\";position: absolute;border-left: 1px solid gray;box-sizing: border-box;top: 0;bottom: 0;left: 50%;z-index: 0;}#sk-container-id-3 div.sk-serial {display: flex;flex-direction: column;align-items: center;background-color: white;padding-right: 0.2em;padding-left: 0.2em;position: relative;}#sk-container-id-3 div.sk-item {position: relative;z-index: 1;}#sk-container-id-3 div.sk-parallel {display: flex;align-items: stretch;justify-content: center;background-color: white;position: relative;}#sk-container-id-3 div.sk-item::before, #sk-container-id-3 div.sk-parallel-item::before {content: \"\";position: absolute;border-left: 1px solid gray;box-sizing: border-box;top: 0;bottom: 0;left: 50%;z-index: -1;}#sk-container-id-3 div.sk-parallel-item {display: flex;flex-direction: column;z-index: 1;position: relative;background-color: white;}#sk-container-id-3 div.sk-parallel-item:first-child::after {align-self: flex-end;width: 50%;}#sk-container-id-3 div.sk-parallel-item:last-child::after {align-self: flex-start;width: 50%;}#sk-container-id-3 div.sk-parallel-item:only-child::after {width: 0;}#sk-container-id-3 div.sk-dashed-wrapped {border: 1px dashed gray;margin: 0 0.4em 0.5em 0.4em;box-sizing: border-box;padding-bottom: 0.4em;background-color: white;}#sk-container-id-3 div.sk-label label {font-family: monospace;font-weight: bold;display: inline-block;line-height: 1.2em;}#sk-container-id-3 div.sk-label-container {text-align: center;}#sk-container-id-3 div.sk-container {/* jupyter's `normalize.less` sets `[hidden] { display: none; }` but bootstrap.min.css set `[hidden] { display: none !important; }` so we also need the `!important` here to be able to override the default hidden behavior on the sphinx rendered scikit-learn.org. See: https://github.com/scikit-learn/scikit-learn/issues/21755 */display: inline-block !important;position: relative;}#sk-container-id-3 div.sk-text-repr-fallback {display: none;}</style><div id=\"sk-container-id-3\" class=\"sk-top-container\"><div class=\"sk-text-repr-fallback\"><pre>KMeans(n_clusters=3)</pre><b>In a Jupyter environment, please rerun this cell to show the HTML representation or trust the notebook. <br />On GitHub, the HTML representation is unable to render, please try loading this page with nbviewer.org.</b></div><div class=\"sk-container\" hidden><div class=\"sk-item\"><div class=\"sk-estimator sk-toggleable\"><input class=\"sk-toggleable__control sk-hidden--visually\" id=\"sk-estimator-id-3\" type=\"checkbox\" checked><label for=\"sk-estimator-id-3\" class=\"sk-toggleable__label sk-toggleable__label-arrow\">KMeans</label><div class=\"sk-toggleable__content\"><pre>KMeans(n_clusters=3)</pre></div></div></div></div></div>"
      ],
      "text/plain": [
       "KMeans(n_clusters=3)"
      ]
     },
     "execution_count": 89,
     "metadata": {},
     "output_type": "execute_result"
    }
   ],
   "source": [
    "from sklearn.cluster import KMeans\n",
    "km = KMeans(n_clusters=3)\n",
    "km.fit(X_train)"
   ]
  },
  {
   "cell_type": "code",
   "execution_count": 90,
   "id": "64c221f4",
   "metadata": {},
   "outputs": [],
   "source": [
    "Xx_t = X_train\n",
    "Xx_t['label']=km.predict(X_train)"
   ]
  },
  {
   "cell_type": "code",
   "execution_count": 91,
   "id": "129b085d",
   "metadata": {},
   "outputs": [
    {
     "data": {
      "text/html": [
       "<div>\n",
       "<style scoped>\n",
       "    .dataframe tbody tr th:only-of-type {\n",
       "        vertical-align: middle;\n",
       "    }\n",
       "\n",
       "    .dataframe tbody tr th {\n",
       "        vertical-align: top;\n",
       "    }\n",
       "\n",
       "    .dataframe thead th {\n",
       "        text-align: right;\n",
       "    }\n",
       "</style>\n",
       "<table border=\"1\" class=\"dataframe\">\n",
       "  <thead>\n",
       "    <tr style=\"text-align: right;\">\n",
       "      <th></th>\n",
       "      <th>speed_limit</th>\n",
       "      <th>number_of_units</th>\n",
       "      <th>occupants</th>\n",
       "      <th>fatal_count</th>\n",
       "      <th>lighting</th>\n",
       "      <th>crash_type</th>\n",
       "      <th>highway_classification</th>\n",
       "      <th>hour</th>\n",
       "      <th>weekday</th>\n",
       "      <th>a_level_count</th>\n",
       "      <th>b_level_count</th>\n",
       "      <th>c_level_count</th>\n",
       "      <th>label</th>\n",
       "    </tr>\n",
       "  </thead>\n",
       "  <tbody>\n",
       "    <tr>\n",
       "      <th>39431</th>\n",
       "      <td>30</td>\n",
       "      <td>2</td>\n",
       "      <td>2</td>\n",
       "      <td>0</td>\n",
       "      <td>1</td>\n",
       "      <td>5</td>\n",
       "      <td>9</td>\n",
       "      <td>10.0</td>\n",
       "      <td>7</td>\n",
       "      <td>0</td>\n",
       "      <td>0</td>\n",
       "      <td>0</td>\n",
       "      <td>1</td>\n",
       "    </tr>\n",
       "    <tr>\n",
       "      <th>121844</th>\n",
       "      <td>55</td>\n",
       "      <td>2</td>\n",
       "      <td>2</td>\n",
       "      <td>0</td>\n",
       "      <td>1</td>\n",
       "      <td>8</td>\n",
       "      <td>1</td>\n",
       "      <td>13.0</td>\n",
       "      <td>4</td>\n",
       "      <td>0</td>\n",
       "      <td>0</td>\n",
       "      <td>0</td>\n",
       "      <td>0</td>\n",
       "    </tr>\n",
       "    <tr>\n",
       "      <th>133675</th>\n",
       "      <td>35</td>\n",
       "      <td>2</td>\n",
       "      <td>2</td>\n",
       "      <td>0</td>\n",
       "      <td>1</td>\n",
       "      <td>4</td>\n",
       "      <td>3</td>\n",
       "      <td>19.0</td>\n",
       "      <td>4</td>\n",
       "      <td>0</td>\n",
       "      <td>0</td>\n",
       "      <td>0</td>\n",
       "      <td>1</td>\n",
       "    </tr>\n",
       "    <tr>\n",
       "      <th>110107</th>\n",
       "      <td>55</td>\n",
       "      <td>1</td>\n",
       "      <td>1</td>\n",
       "      <td>0</td>\n",
       "      <td>1</td>\n",
       "      <td>1</td>\n",
       "      <td>1</td>\n",
       "      <td>10.0</td>\n",
       "      <td>4</td>\n",
       "      <td>0</td>\n",
       "      <td>0</td>\n",
       "      <td>0</td>\n",
       "      <td>0</td>\n",
       "    </tr>\n",
       "    <tr>\n",
       "      <th>48254</th>\n",
       "      <td>25</td>\n",
       "      <td>2</td>\n",
       "      <td>3</td>\n",
       "      <td>0</td>\n",
       "      <td>4</td>\n",
       "      <td>5</td>\n",
       "      <td>9</td>\n",
       "      <td>3.0</td>\n",
       "      <td>5</td>\n",
       "      <td>0</td>\n",
       "      <td>0</td>\n",
       "      <td>1</td>\n",
       "      <td>1</td>\n",
       "    </tr>\n",
       "  </tbody>\n",
       "</table>\n",
       "</div>"
      ],
      "text/plain": [
       "        speed_limit  number_of_units  occupants  fatal_count  lighting  \\\n",
       "39431            30                2          2            0         1   \n",
       "121844           55                2          2            0         1   \n",
       "133675           35                2          2            0         1   \n",
       "110107           55                1          1            0         1   \n",
       "48254            25                2          3            0         4   \n",
       "\n",
       "        crash_type  highway_classification  hour  weekday  a_level_count  \\\n",
       "39431            5                       9  10.0        7              0   \n",
       "121844           8                       1  13.0        4              0   \n",
       "133675           4                       3  19.0        4              0   \n",
       "110107           1                       1  10.0        4              0   \n",
       "48254            5                       9   3.0        5              0   \n",
       "\n",
       "        b_level_count  c_level_count  label  \n",
       "39431               0              0      1  \n",
       "121844              0              0      0  \n",
       "133675              0              0      1  \n",
       "110107              0              0      0  \n",
       "48254               0              1      1  "
      ]
     },
     "execution_count": 91,
     "metadata": {},
     "output_type": "execute_result"
    }
   ],
   "source": [
    "#Xx_t.drop(columns=['target','label'],axis=1,inplace=True)\n",
    "Xx_t.head()"
   ]
  },
  {
   "cell_type": "code",
   "execution_count": 93,
   "id": "64ff7998",
   "metadata": {},
   "outputs": [
    {
     "name": "stdout",
     "output_type": "stream",
     "text": [
      "2 :  31595458.74831564\n",
      "3 :  14038293.565042416\n",
      "4 :  10707028.860102614\n",
      "5 :  8854312.152633972\n",
      "6 :  7455660.321360768\n",
      "7 :  6594736.740431274\n",
      "8 :  5951462.8134073485\n"
     ]
    }
   ],
   "source": [
    "inn={}\n",
    "for i in range(2,9):\n",
    "    km = KMeans(n_clusters=i)\n",
    "    km.fit(X_train)\n",
    "    inn[i]=km.inertia_\n",
    "    print(i,': ', inn[i])\n"
   ]
  },
  {
   "cell_type": "code",
   "execution_count": 105,
   "id": "e1d7be86",
   "metadata": {},
   "outputs": [
    {
     "name": "stderr",
     "output_type": "stream",
     "text": [
      "C:\\Users\\Nishit Vyas\\anaconda3\\envs\\MLEnv\\lib\\site-packages\\seaborn\\_decorators.py:36: FutureWarning: Pass the following variables as keyword args: x, y. From version 0.12, the only valid positional argument will be `data`, and passing other arguments without an explicit keyword will result in an error or misinterpretation.\n",
      "  warnings.warn(\n"
     ]
    },
    {
     "data": {
      "text/plain": [
       "<AxesSubplot:>"
      ]
     },
     "execution_count": 105,
     "metadata": {},
     "output_type": "execute_result"
    },
    {
     "data": {
      "image/png": "[encoded data removed]",
      "text/plain": [
       "<Figure size 432x288 with 1 Axes>"
      ]
     },
     "metadata": {
      "needs_background": "light"
     },
     "output_type": "display_data"
    }
   ],
   "source": [
    "list(inn.keys())\n",
    "\n",
    "sns.lineplot(list(inn.keys()),list(inn.values()))"
   ]
  },
  {
   "cell_type": "code",
   "execution_count": 123,
   "id": "b4082dc0",
   "metadata": {},
   "outputs": [
    {
     "data": {
      "text/html": [
       "<div>\n",
       "<style scoped>\n",
       "    .dataframe tbody tr th:only-of-type {\n",
       "        vertical-align: middle;\n",
       "    }\n",
       "\n",
       "    .dataframe tbody tr th {\n",
       "        vertical-align: top;\n",
       "    }\n",
       "\n",
       "    .dataframe thead th {\n",
       "        text-align: right;\n",
       "    }\n",
       "</style>\n",
       "<table border=\"1\" class=\"dataframe\">\n",
       "  <thead>\n",
       "    <tr style=\"text-align: right;\">\n",
       "      <th></th>\n",
       "      <th>speed_limit</th>\n",
       "      <th>number_of_units</th>\n",
       "      <th>occupants</th>\n",
       "      <th>fatal_count</th>\n",
       "      <th>lighting</th>\n",
       "      <th>crash_type</th>\n",
       "      <th>highway_classification</th>\n",
       "      <th>hour</th>\n",
       "      <th>weekday</th>\n",
       "      <th>a_level_count</th>\n",
       "      <th>b_level_count</th>\n",
       "      <th>c_level_count</th>\n",
       "    </tr>\n",
       "  </thead>\n",
       "  <tbody>\n",
       "    <tr>\n",
       "      <th>39431</th>\n",
       "      <td>30</td>\n",
       "      <td>2</td>\n",
       "      <td>2</td>\n",
       "      <td>0</td>\n",
       "      <td>1</td>\n",
       "      <td>5</td>\n",
       "      <td>9</td>\n",
       "      <td>10.0</td>\n",
       "      <td>7</td>\n",
       "      <td>0</td>\n",
       "      <td>0</td>\n",
       "      <td>0</td>\n",
       "    </tr>\n",
       "    <tr>\n",
       "      <th>121844</th>\n",
       "      <td>55</td>\n",
       "      <td>2</td>\n",
       "      <td>2</td>\n",
       "      <td>0</td>\n",
       "      <td>1</td>\n",
       "      <td>8</td>\n",
       "      <td>1</td>\n",
       "      <td>13.0</td>\n",
       "      <td>4</td>\n",
       "      <td>0</td>\n",
       "      <td>0</td>\n",
       "      <td>0</td>\n",
       "    </tr>\n",
       "    <tr>\n",
       "      <th>133675</th>\n",
       "      <td>35</td>\n",
       "      <td>2</td>\n",
       "      <td>2</td>\n",
       "      <td>0</td>\n",
       "      <td>1</td>\n",
       "      <td>4</td>\n",
       "      <td>3</td>\n",
       "      <td>19.0</td>\n",
       "      <td>4</td>\n",
       "      <td>0</td>\n",
       "      <td>0</td>\n",
       "      <td>0</td>\n",
       "    </tr>\n",
       "    <tr>\n",
       "      <th>110107</th>\n",
       "      <td>55</td>\n",
       "      <td>1</td>\n",
       "      <td>1</td>\n",
       "      <td>0</td>\n",
       "      <td>1</td>\n",
       "      <td>1</td>\n",
       "      <td>1</td>\n",
       "      <td>10.0</td>\n",
       "      <td>4</td>\n",
       "      <td>0</td>\n",
       "      <td>0</td>\n",
       "      <td>0</td>\n",
       "    </tr>\n",
       "    <tr>\n",
       "      <th>48254</th>\n",
       "      <td>25</td>\n",
       "      <td>2</td>\n",
       "      <td>3</td>\n",
       "      <td>0</td>\n",
       "      <td>4</td>\n",
       "      <td>5</td>\n",
       "      <td>9</td>\n",
       "      <td>3.0</td>\n",
       "      <td>5</td>\n",
       "      <td>0</td>\n",
       "      <td>0</td>\n",
       "      <td>1</td>\n",
       "    </tr>\n",
       "  </tbody>\n",
       "</table>\n",
       "</div>"
      ],
      "text/plain": [
       "        speed_limit  number_of_units  occupants  fatal_count  lighting  \\\n",
       "39431            30                2          2            0         1   \n",
       "121844           55                2          2            0         1   \n",
       "133675           35                2          2            0         1   \n",
       "110107           55                1          1            0         1   \n",
       "48254            25                2          3            0         4   \n",
       "\n",
       "        crash_type  highway_classification  hour  weekday  a_level_count  \\\n",
       "39431            5                       9  10.0        7              0   \n",
       "121844           8                       1  13.0        4              0   \n",
       "133675           4                       3  19.0        4              0   \n",
       "110107           1                       1  10.0        4              0   \n",
       "48254            5                       9   3.0        5              0   \n",
       "\n",
       "        b_level_count  c_level_count  \n",
       "39431               0              0  \n",
       "121844              0              0  \n",
       "133675              0              0  \n",
       "110107              0              0  \n",
       "48254               0              1  "
      ]
     },
     "execution_count": 123,
     "metadata": {},
     "output_type": "execute_result"
    }
   ],
   "source": [
    "Xx_t.head()"
   ]
  },
  {
   "cell_type": "code",
   "execution_count": 122,
   "id": "1e73b753",
   "metadata": {},
   "outputs": [],
   "source": [
    "# from sklearn.pipeline import Pipeline\n",
    "# from sklearn.preprocessing import StandardScaler\n",
    "# from sklearn.decomposition import PCA\n",
    "# kmsPipe = Pipeline([\n",
    "#     ('scaler', StandardScaler()),\n",
    "#     ('pca', PCA(n_components=2)),\n",
    "#     ('kmeans', KMeans(n_clusters=3))\n",
    "# ])\n",
    "\n",
    "# #Xx_t = Xx_t.drop(columns=['label'],axis=1)\n",
    "# kmsPipe.fit(Xx_t)\n",
    "# label = kmsPipe.predict(Xx_t)"
   ]
  },
  {
   "cell_type": "code",
   "execution_count": 128,
   "id": "19362687",
   "metadata": {},
   "outputs": [
    {
     "data": {
      "image/png": "[encoded data removed]",
      "text/plain": [
       "<Figure size 432x288 with 1 Axes>"
      ]
     },
     "metadata": {
      "needs_background": "light"
     },
     "output_type": "display_data"
    }
   ],
   "source": [
    "from sklearn.decomposition import PCA\n",
    "from sklearn.cluster import KMeans\n",
    "import numpy as np\n",
    " \n",
    "#Load Data\n",
    "#data = load_digits().data\n",
    "pca = PCA(n_components=2)\n",
    " \n",
    "#Transform the data\n",
    "df = pca.fit_transform(Xx_t)\n",
    " \n",
    "#Import KMeans module\n",
    "from sklearn.cluster import KMeans\n",
    " \n",
    "#Initialize the class object\n",
    "kmeans = KMeans(n_clusters= 3)\n",
    " \n",
    "#predict the labels of clusters.\n",
    "label = kmeans.fit_predict(df)\n",
    " \n",
    "#Getting unique labels\n",
    "u_labels = np.unique(label)\n",
    " \n",
    "#plotting the results:\n",
    "for i in u_labels:\n",
    "    plt.scatter(df[label == i , 0] , df[label == i , 1] , label = i,alpha=0.6)\n",
    "plt.legend()\n",
    "plt.show()"
   ]
  },
  {
   "cell_type": "markdown",
   "id": "7d643e89",
   "metadata": {},
   "source": [
    "The two overlapping sections can be drug and alcohol and the other isolated section can be of clean people."
   ]
  },
  {
   "cell_type": "code",
   "execution_count": 135,
   "id": "921a204f",
   "metadata": {},
   "outputs": [
    {
     "data": {
      "text/plain": [
       "Index(['speed_limit', 'number_of_units', 'occupants', 'fatal_count',\n",
       "       'lighting', 'crash_type', 'highway_classification', 'hour', 'weekday',\n",
       "       'a_level_count', 'b_level_count', 'c_level_count'],\n",
       "      dtype='object')"
      ]
     },
     "execution_count": 135,
     "metadata": {},
     "output_type": "execute_result"
    }
   ],
   "source": [
    "Xx_t.columns"
   ]
  },
  {
   "cell_type": "markdown",
   "id": "cc714109",
   "metadata": {},
   "source": [
    "## Experiment 2"
   ]
  },
  {
   "cell_type": "code",
   "execution_count": 140,
   "id": "4a04432f",
   "metadata": {},
   "outputs": [
    {
     "data": {
      "image/png": "[encoded data removed]",
      "text/plain": [
       "<Figure size 432x288 with 1 Axes>"
      ]
     },
     "metadata": {
      "needs_background": "light"
     },
     "output_type": "display_data"
    }
   ],
   "source": [
    "cols= ['speed_limit', 'number_of_units', 'occupants', 'fatal_count', 'highway_classification', 'hour',\n",
    "       'weekday','a_level_count', 'b_level_count', 'c_level_count','lighting']\n",
    "\n",
    "\n",
    "from sklearn.decomposition import PCA\n",
    "from sklearn.cluster import KMeans\n",
    "import numpy as np\n",
    " \n",
    "#Load Data\n",
    "#data = load_digits().data\n",
    "pca = PCA(n_components=2)\n",
    " \n",
    "#Transform the data\n",
    "df = pca.fit_transform(Xx_t[cols])\n",
    " \n",
    "#Import KMeans module\n",
    "from sklearn.cluster import KMeans\n",
    " \n",
    "#Initialize the class object\n",
    "kmeans = KMeans(n_clusters= 3)\n",
    " \n",
    "#predict the labels of clusters.\n",
    "label = kmeans.fit_predict(df)\n",
    " \n",
    "#Getting unique labels\n",
    "u_labels = np.unique(label)\n",
    " \n",
    "#plotting the results:\n",
    "for i in u_labels:\n",
    "    plt.scatter(df[label == i , 0] , df[label == i , 1] , label = i,alpha=0.6)\n",
    "plt.legend()\n",
    "plt.show()"
   ]
  },
  {
   "cell_type": "markdown",
   "id": "51600eb3",
   "metadata": {},
   "source": [
    "crash_type is significant feature"
   ]
  },
  {
   "cell_type": "code",
   "execution_count": null,
   "id": "88f5edab",
   "metadata": {},
   "outputs": [],
   "source": []
  }
 ],
 "metadata": {
  "kernelspec": {
   "display_name": "Python 3 (ipykernel)",
   "language": "python",
   "name": "python3"
  },
  "language_info": {
   "codemirror_mode": {
    "name": "ipython",
    "version": 3
   },
   "file_extension": ".py",
   "mimetype": "text/x-python",
   "name": "python",
   "nbconvert_exporter": "python",
   "pygments_lexer": "ipython3",
   "version": "3.10.4"
  }
 },
 "nbformat": 4,
 "nbformat_minor": 5
}
